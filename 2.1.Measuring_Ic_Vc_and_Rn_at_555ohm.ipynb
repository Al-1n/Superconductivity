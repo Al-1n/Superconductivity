{
 "cells": [
  {
   "cell_type": "markdown",
   "id": "d8a8a37e-f395-405f-a07d-0349694b422d",
   "metadata": {},
   "source": [
    "# Measuring the Josephson Current, the gap voltage and the normal state resistance at 555ohm \n",
    "** **\n",
    " * This project uses the lmfit package. Lmfit provides curve fiting using non-linear least squares minimization and was developed by Matt Newville: https://github.com/newville."
   ]
  },
  {
   "cell_type": "markdown",
   "id": "99bc9cd0-0ca7-4229-bb2d-1414a58bec04",
   "metadata": {},
   "source": [
    "## Install and import libraries"
   ]
  },
  {
   "cell_type": "code",
   "execution_count": 1,
   "id": "fe638614-0386-4845-b482-4cf89c0a7ec4",
   "metadata": {},
   "outputs": [],
   "source": [
    "#uncomment the following line to install lmfit\n",
    "#!pip install lmfit"
   ]
  },
  {
   "cell_type": "code",
   "execution_count": 2,
   "id": "04360f36-197c-420b-8d71-f2df94a17d09",
   "metadata": {
    "tags": []
   },
   "outputs": [],
   "source": [
    "import pandas as pd\n",
    "import numpy as np\n",
    "import seaborn as sns\n",
    "import matplotlib.pyplot as plt\n",
    "from lmfit.models import LinearModel\n",
    "import math"
   ]
  },
  {
   "cell_type": "markdown",
   "id": "0754b065-979d-4761-ae32-c4f0e97c6630",
   "metadata": {},
   "source": [
    "## Data"
   ]
  },
  {
   "cell_type": "code",
   "execution_count": 3,
   "id": "b466b556-6609-46cb-ace8-4d4f8e8be730",
   "metadata": {
    "tags": []
   },
   "outputs": [
    {
     "data": {
      "text/html": [
       "<div>\n",
       "<style scoped>\n",
       "    .dataframe tbody tr th:only-of-type {\n",
       "        vertical-align: middle;\n",
       "    }\n",
       "\n",
       "    .dataframe tbody tr th {\n",
       "        vertical-align: top;\n",
       "    }\n",
       "\n",
       "    .dataframe thead th {\n",
       "        text-align: right;\n",
       "    }\n",
       "</style>\n",
       "<table border=\"1\" class=\"dataframe\">\n",
       "  <thead>\n",
       "    <tr style=\"text-align: right;\">\n",
       "      <th></th>\n",
       "      <th>0</th>\n",
       "      <th>1</th>\n",
       "      <th>2</th>\n",
       "    </tr>\n",
       "  </thead>\n",
       "  <tbody>\n",
       "    <tr>\n",
       "      <th>0</th>\n",
       "      <td>-7.831</td>\n",
       "      <td>-61.3813</td>\n",
       "      <td>0.00310</td>\n",
       "    </tr>\n",
       "    <tr>\n",
       "      <th>1</th>\n",
       "      <td>-7.760</td>\n",
       "      <td>-59.8737</td>\n",
       "      <td>0.00303</td>\n",
       "    </tr>\n",
       "    <tr>\n",
       "      <th>2</th>\n",
       "      <td>-7.365</td>\n",
       "      <td>-57.2944</td>\n",
       "      <td>0.00290</td>\n",
       "    </tr>\n",
       "    <tr>\n",
       "      <th>3</th>\n",
       "      <td>-7.068</td>\n",
       "      <td>-54.4899</td>\n",
       "      <td>0.00276</td>\n",
       "    </tr>\n",
       "    <tr>\n",
       "      <th>4</th>\n",
       "      <td>-6.729</td>\n",
       "      <td>-51.6705</td>\n",
       "      <td>0.00262</td>\n",
       "    </tr>\n",
       "  </tbody>\n",
       "</table>\n",
       "</div>"
      ],
      "text/plain": [
       "       0        1        2\n",
       "0 -7.831 -61.3813  0.00310\n",
       "1 -7.760 -59.8737  0.00303\n",
       "2 -7.365 -57.2944  0.00290\n",
       "3 -7.068 -54.4899  0.00276\n",
       "4 -6.729 -51.6705  0.00262"
      ]
     },
     "execution_count": 3,
     "metadata": {},
     "output_type": "execute_result"
    }
   ],
   "source": [
    "#Load the data\n",
    "df = pd.read_csv(\"./Data/555_one_pass.csv\", sep = \" \", header = None)\n",
    "\n",
    "#Preview the data\n",
    "df.head()"
   ]
  },
  {
   "cell_type": "markdown",
   "id": "69f59ccf-9d58-428a-aba2-80e58fb89e31",
   "metadata": {},
   "source": [
    "## Data wrangling"
   ]
  },
  {
   "cell_type": "code",
   "execution_count": 4,
   "id": "e0e46b58-f661-4940-a460-22838f6fb379",
   "metadata": {
    "tags": []
   },
   "outputs": [
    {
     "name": "stdout",
     "output_type": "stream",
     "text": [
      "V =  [-7.831, -7.76, -7.365, -7.068, -6.729, -6.376, -6.052, -5.797, -5.48, -5.148, -4.886, -4.59, -4.293, -4.039, -3.799, -3.517, -3.248, -3.022, -2.768, -2.472, -2.401, -2.373, -2.359, -2.337, -2.33, -2.302, -2.26, -0.756, 0.021, 0.028, 0.042, 0.035, 0.042, 2.401, 2.408, 2.429, 2.45, 2.464, 2.549, 2.874, 3.114, 3.354, 3.587, 3.856, 4.103, 4.406, 4.604, 4.886, 5.169, 5.444, 5.741, 6.002, 6.327, 6.645, 6.892, 7.231, 7.556, 7.852, 8.205, 8.022, 7.838, 7.612, 7.414, 7.224, 7.04, 6.849, 6.666, 6.489, 6.278, 6.101, 5.889, 5.727, 5.543, 5.36, 5.162, 5.035, 4.837, 4.682, 4.512, 4.371, 4.216, 4.039, 3.87, 3.721, 3.566, 3.432, 3.269, 3.093, 2.973, 2.803, 2.592, 2.549, 2.521, 2.507, 2.493, 2.486, 2.479, 2.472, 2.45, 2.45, 2.422, 2.394, 2.351, 1.37, 0.106, 0.071, 0.085, 0.078, 0.085, 0.092, 0.078, -0.233, -2.274, -2.274, -2.274, -2.288, -2.288, -2.316, -2.316, -2.337, -2.373, -2.528, -2.712, -2.867, -3.051, -3.192, -3.361, -3.517, -3.686, -3.856, -4.039, -4.194, -4.385, -4.555, -4.717, -4.901, -5.098, -5.282, -5.494, -5.67, -5.868, -6.087, -6.285, -6.503, -6.666, -6.906, -7.083, -7.308, -7.549, -7.803, -7.88]\n",
      "I =  [-61.3813, -59.8737, -57.2944, -54.4899, -51.6705, -49.4064, -46.5133, -44.3488, -41.807, -39.5538, -37.0243, -34.8372, -32.5656, -30.0634, -28.0264, -25.5931, -23.7308, -21.4066, -19.431, -17.3647, -15.4642, -13.5309, -11.6652, -9.4481, -7.8416, -5.864, -4.1306, -2.2866, -0.3772, 1.303, 3.166, 4.9976, 6.5823, 8.4965, 10.4052, 12.1611, 13.9184, 16.0052, 17.9719, 19.8669, 21.7982, 24.1776, 26.1204, 28.0885, 30.1473, 32.4551, 34.5364, 37.0318, 38.935, 41.5812, 43.5595, 46.2261, 48.2842, 50.7053, 53.2716, 55.8106, 57.9492, 60.3164, 62.691, 61.2073, 59.4985, 57.9308, 56.5167, 55.0268, 53.3603, 51.8547, 50.5374, 48.9596, 47.5038, 46.1176, 44.4995, 43.1461, 41.6296, 40.2271, 38.7536, 37.2398, 35.9301, 34.4682, 33.1141, 31.8302, 30.3315, 29.2223, 27.849, 26.57, 25.222, 23.8631, 22.6468, 21.4121, 19.9706, 18.7373, 17.4861, 16.4411, 15.1633, 13.8761, 12.6454, 11.5253, 10.3888, 9.2946, 8.0496, 6.8906, 5.7882, 4.6258, 3.5678, 2.5268, 1.2579, 0.2394, -0.7265, -1.8692, -2.9218, -4.0835, -5.1777, -6.3804, -7.4023, -8.551, -9.8253, -10.9625, -12.0956, -13.3726, -14.7199, -16.0249, -17.083, -18.4685, -19.7694, -21.0526, -22.2423, -23.8038, -25.0337, -26.4697, -27.8163, -29.4712, -30.6398, -32.1283, -33.5766, -35.0398, -36.5884, -38.2263, -39.6029, -41.2442, -42.5553, -44.1762, -45.7199, -47.4595, -48.9405, -50.6684, -52.2476, -53.9729, -55.651, -57.4281, -58.9657, -60.8001, -60.7373]\n"
     ]
    }
   ],
   "source": [
    "#Ascribe the columns to the V and I varibles \n",
    "V = list(df[0])\n",
    "I = list(df[1])\n",
    "\n",
    "#Preview the data\n",
    "print(\"V = \", V)\n",
    "print(\"I = \", I )"
   ]
  },
  {
   "cell_type": "code",
   "execution_count": 5,
   "id": "916e74e8-0298-4365-b57c-a2e61a62c345",
   "metadata": {
    "tags": []
   },
   "outputs": [
    {
     "name": "stdout",
     "output_type": "stream",
     "text": [
      "32\n",
      "49\n"
     ]
    }
   ],
   "source": [
    "lower_limit = V.index(0.042) + 2\n",
    "upper_limit = V.index(5.444)\n",
    "\n",
    "print(lower_limit)\n",
    "print(upper_limit)"
   ]
  },
  {
   "cell_type": "code",
   "execution_count": 6,
   "id": "d68cd360-3b84-4be3-968d-8d77562286e7",
   "metadata": {
    "tags": []
   },
   "outputs": [
    {
     "name": "stdout",
     "output_type": "stream",
     "text": [
      "V =  [0.042 2.401 2.408 2.429 2.45  2.464 2.549 2.874 3.114 3.354 3.587 3.856\n",
      " 4.103 4.406 4.604 4.886 5.169]\n",
      "I =  [ 6.5823  8.4965 10.4052 12.1611 13.9184 16.0052 17.9719 19.8669 21.7982\n",
      " 24.1776 26.1204 28.0885 30.1473 32.4551 34.5364 37.0318 38.935 ]\n"
     ]
    }
   ],
   "source": [
    "#Remove the data above the chosen upper limit to enhance the view and focus on the single forward pass\n",
    "V = np.array(V[lower_limit:upper_limit])\n",
    "\n",
    "I = np.array(I[lower_limit:upper_limit])\n",
    "\n",
    "#Preview the new subsets\n",
    "print(\"V = \", V)\n",
    "print(\"I = \", I)"
   ]
  },
  {
   "cell_type": "code",
   "execution_count": 7,
   "id": "aede1c1b-543e-4e7f-bd18-2cac0aa30847",
   "metadata": {
    "tags": []
   },
   "outputs": [
    {
     "data": {
      "text/plain": [
       "<seaborn.axisgrid.FacetGrid at 0x7f2dc0f824d0>"
      ]
     },
     "execution_count": 7,
     "metadata": {},
     "output_type": "execute_result"
    },
    {
     "data": {
      "image/png": "[encoded data removed]",
      "text/plain": [
       "<Figure size 500x500 with 1 Axes>"
      ]
     },
     "metadata": {},
     "output_type": "display_data"
    }
   ],
   "source": [
    "#Uncomment the line below to make the graph interactive\n",
    "#%matplotlib widget\n",
    "\n",
    "#Preview the data\n",
    "sns.relplot(x = V, y = I, kind = \"line\")"
   ]
  },
  {
   "cell_type": "code",
   "execution_count": 8,
   "id": "6909a570-bf72-4f1b-b00d-4e955bfc4a82",
   "metadata": {
    "tags": []
   },
   "outputs": [
    {
     "data": {
      "image/png": "[encoded data removed]",
      "text/plain": [
       "<Figure size 900x600 with 1 Axes>"
      ]
     },
     "metadata": {},
     "output_type": "display_data"
    }
   ],
   "source": [
    "#Uncomment the line below to make the graph interactive\n",
    "#%matplotlib widget\n",
    "\n",
    "#Set figure size\n",
    "plt.figure(figsize=(9,6))\n",
    "\n",
    "# Define the data\n",
    "V = np.array(V)\n",
    "I = np.array(I)\n",
    "\n",
    "\n",
    "# Define the window size\n",
    "window_size = 6\n",
    "\n",
    "# Calculate the moving averages\n",
    "V_avg = np.convolve(V, np.ones(window_size)/window_size, mode='same')\n",
    "I_avg = np.convolve(I, np.ones(window_size)/window_size, mode='same')\n",
    "\n",
    "# Calculate the standard deviations\n",
    "V_std = np.std(V)\n",
    "I_std = np.std(I)\n",
    "\n",
    "# Calculate the z-scores\n",
    "V_z = (V - V_avg) / V_std\n",
    "I_z = (I - I_avg) / I_std\n",
    "\n",
    "# Calculate the change points\n",
    "change_points = []\n",
    "for i in range(len(V_z)):\n",
    "    if abs(V_z[i]) > 3 or abs(I_z[i]) > 0.01:\n",
    "        change_points.append(i)\n",
    "\n",
    "# Mark the change points on the plot\n",
    "for point in change_points:\n",
    "    plt.axvline(V[point], color='r', linestyle='--', alpha=0.5)\n",
    "\n",
    "    \n",
    "# Plot the data again\n",
    "sns.lineplot(x=V, y=I, color = 'orange')  \n",
    "    \n",
    "# Set plot labels and title\n",
    "plt.xlabel('V')\n",
    "plt.ylabel('I')\n",
    "plt.title('Inflection Points Detection')\n",
    "\n",
    "# Show the plot\n",
    "plt.show()"
   ]
  },
  {
   "cell_type": "markdown",
   "id": "bc785054-bd2d-4230-86b4-fa6440d296cd",
   "metadata": {},
   "source": [
    "### Clear the graph above to focus on Ic and Vc"
   ]
  },
  {
   "cell_type": "code",
   "execution_count": 9,
   "id": "1311acd9-0417-4089-a690-7627baaf5f39",
   "metadata": {
    "tags": []
   },
   "outputs": [
    {
     "data": {
      "image/png": "[encoded data removed]",
      "text/plain": [
       "<Figure size 900x600 with 1 Axes>"
      ]
     },
     "metadata": {},
     "output_type": "display_data"
    }
   ],
   "source": [
    "#Uncomment the line below to make the graph interactive\n",
    "#%matplotlib widget\n",
    "\n",
    "#Set figure size\n",
    "plt.figure(figsize=(9,6))\n",
    "\n",
    "# Define the window size\n",
    "window_size = 6\n",
    "\n",
    "# Calculate the moving averages\n",
    "V_avg = np.convolve(V, np.ones(window_size)/window_size, mode='same')\n",
    "I_avg = np.convolve(I, np.ones(window_size)/window_size, mode='same')\n",
    "\n",
    "# Calculate the standard deviations\n",
    "V_std = np.std(V)\n",
    "I_std = np.std(I)\n",
    "\n",
    "# Calculate the z-scores\n",
    "V_z = (V - V_avg) / V_std\n",
    "I_z = (I - I_avg) / I_std\n",
    "\n",
    "# Calculate the change points\n",
    "change_points = []\n",
    "for i in range(len(V_z)):\n",
    "    if abs(V_z[i]) > 3 or abs(I_z[i]) > 0.01:\n",
    "        change_points.append(i)\n",
    "\n",
    "# Annotate inflection points on the graph\n",
    "for idx, point in enumerate(change_points):\n",
    "    if idx in [1, 5]:\n",
    "        plt.annotate(f'Inflection Point\\n(V={V[point]:.3f}mV)\\n(I = {np.interp(V[point], V, I):3f}$\\mu A$)', \n",
    "                     xy=(V[point], np.interp(V[point], V, I)),\n",
    "                     xytext=(V[point] - 1.2, np.interp(V[point], V, I) + 3),\n",
    "                     arrowprops={'facecolor': 'red', 'shrink': 0.05})\n",
    "\n",
    "    \n",
    "# Plot the data again\n",
    "sns.lineplot(x=V, y=I, color = 'orange')  \n",
    "    \n",
    "# Set plot labels and title\n",
    "plt.xlabel('V')\n",
    "plt.ylabel('I')\n",
    "plt.title('Inflection Points Detection')\n",
    "\n",
    "# Show the plot\n",
    "plt.show()"
   ]
  },
  {
   "cell_type": "markdown",
   "id": "e85392e7-7fdc-4476-805f-665973b49608",
   "metadata": {},
   "source": [
    "# Estimating the normal state resistance (Rn)"
   ]
  },
  {
   "cell_type": "code",
   "execution_count": 10,
   "id": "59c0fa22-6aaf-4859-b923-3ff6aa7fe6de",
   "metadata": {
    "tags": []
   },
   "outputs": [
    {
     "name": "stdout",
     "output_type": "stream",
     "text": [
      "[-7.831, -7.76, -7.365, -7.068, -6.729, -6.376, -6.052, -5.797, -5.48, -5.148, -4.886, -4.59, -4.293, -4.039, -3.799, -3.517, -3.248, -3.022, -2.768, -2.472, -2.401, -2.373, -2.359, -2.337, -2.33, -2.302, -2.26, -0.756, 0.021, 0.028, 0.042, 0.035, 0.042, 2.401, 2.408, 2.429, 2.45, 2.464, 2.549, 2.874, 3.114, 3.354, 3.587, 3.856, 4.103, 4.406, 4.604, 4.886, 5.169, 5.444, 5.741, 6.002, 6.327, 6.645, 6.892, 7.231, 7.556, 7.852, 8.205, 8.022, 7.838, 7.612, 7.414, 7.224, 7.04, 6.849, 6.666, 6.489, 6.278, 6.101, 5.889, 5.727, 5.543, 5.36, 5.162, 5.035, 4.837, 4.682, 4.512, 4.371, 4.216, 4.039, 3.87, 3.721, 3.566, 3.432, 3.269, 3.093, 2.973, 2.803, 2.592, 2.549, 2.521, 2.507, 2.493, 2.486, 2.479, 2.472, 2.45, 2.45, 2.422, 2.394, 2.351, 1.37, 0.106, 0.071, 0.085, 0.078, 0.085, 0.092, 0.078, -0.233, -2.274, -2.274, -2.274, -2.288, -2.288, -2.316, -2.316, -2.337, -2.373, -2.528, -2.712, -2.867, -3.051, -3.192, -3.361, -3.517, -3.686, -3.856, -4.039, -4.194, -4.385, -4.555, -4.717, -4.901, -5.098, -5.282, -5.494, -5.67, -5.868, -6.087, -6.285, -6.503, -6.666, -6.906, -7.083, -7.308, -7.549, -7.803, -7.88]\n"
     ]
    }
   ],
   "source": [
    "#Preview the main dataset\n",
    "print(list(df[0]))"
   ]
  },
  {
   "cell_type": "code",
   "execution_count": 11,
   "id": "78ae52f8-aafc-41de-a28e-b7e91c22e3e3",
   "metadata": {
    "tags": []
   },
   "outputs": [
    {
     "name": "stdout",
     "output_type": "stream",
     "text": [
      "37\n",
      "58\n"
     ]
    }
   ],
   "source": [
    "#The dataset includes points from two complete sweeps\n",
    "#Identify the index of the approximate limits of the normal state on the positive side of the graph \n",
    "\n",
    "#Function for detecting the first occurrence of an item in a list\n",
    "def find_first_occurrence(value, list):\n",
    "    for i, item in enumerate(list):\n",
    "        if item == value:\n",
    "            first_occurrence = i\n",
    "            break\n",
    "    return first_occurrence\n",
    "\n",
    "low_limit = find_first_occurrence(2.464, list(df[0])) #the second change point above\n",
    "up_limit = list(df[0]).index(df[0].max())\n",
    "\n",
    "print(low_limit) \n",
    "print(up_limit)"
   ]
  },
  {
   "cell_type": "code",
   "execution_count": 12,
   "id": "b864c5cd-63be-4c90-ba23-6d975b3d44c4",
   "metadata": {
    "tags": []
   },
   "outputs": [
    {
     "name": "stdout",
     "output_type": "stream",
     "text": [
      "[2.464 2.549 2.874 3.114 3.354 3.587 3.856 4.103 4.406 4.604 4.886 5.169\n",
      " 5.444 5.741 6.002 6.327 6.645 6.892 7.231 7.556 7.852]\n",
      "[16.0052 17.9719 19.8669 21.7982 24.1776 26.1204 28.0885 30.1473 32.4551\n",
      " 34.5364 37.0318 38.935  41.5812 43.5595 46.2261 48.2842 50.7053 53.2716\n",
      " 55.8106 57.9492 60.3164]\n"
     ]
    }
   ],
   "source": [
    "#Select data from the first pass\n",
    "V_n = np.array(df[0][low_limit:up_limit])\n",
    "I_n = np.array(df[1][low_limit:up_limit])\n",
    "\n",
    "#Preview the data\n",
    "print(V_n)\n",
    "print(I_n)"
   ]
  },
  {
   "cell_type": "markdown",
   "id": "85c19d83-70af-4459-979f-865a26a9e202",
   "metadata": {},
   "source": [
    "## Define the model and fit the data"
   ]
  },
  {
   "cell_type": "code",
   "execution_count": 13,
   "id": "14e579a1-d903-42ee-9b29-f3b31a16d046",
   "metadata": {
    "tags": []
   },
   "outputs": [
    {
     "name": "stdout",
     "output_type": "stream",
     "text": [
      "[[Model]]\n",
      "    Model(linear)\n",
      "[[Fit Statistics]]\n",
      "    # fitting method   = leastsq\n",
      "    # function evals   = 7\n",
      "    # data points      = 21\n",
      "    # variables        = 2\n",
      "    chi-square         = 19.0483458\n",
      "    reduced chi-square = 1.00254452\n",
      "    Akaike info crit   = 1.95161433\n",
      "    Bayesian info crit = 4.04065921\n",
      "    R-squared          = 1.00000000\n",
      "[[Variables]]\n",
      "    slope:      8246.14943 +/- 66.2909820 (0.80%) (init = 8171.069)\n",
      "    intercept: -3708431.85 +/- 265546.616 (7.16%) (init = -3348239)\n",
      "[[Correlations]] (unreported correlations are < 0.100)\n",
      "    C(slope, intercept) = -0.9384\n"
     ]
    }
   ],
   "source": [
    "#Define the variables and convert to Volts and Amps\n",
    "x = V_n / 0.001\n",
    "y = I_n / 0.000001\n",
    "\n",
    "#Use builtin NameModel, specify prefix for each:\n",
    "mod = LinearModel(prefix='') \n",
    "\n",
    "#Set the initial parameters to 'guess' mode\n",
    "pars  = mod.guess(y, x = x)\n",
    "\n",
    "#Fit with weights=1/yerr\n",
    "result = mod.fit(y, pars, x = x, weights= 1. / (y * 0.0142))\n",
    "\n",
    "#Print the fit results\n",
    "print(result.fit_report())"
   ]
  },
  {
   "cell_type": "markdown",
   "id": "4e2b31af-3b9f-41ff-bab6-429b46e63cd5",
   "metadata": {},
   "source": [
    "## Plot the model"
   ]
  },
  {
   "cell_type": "code",
   "execution_count": 14,
   "id": "b562e985-269d-4d96-9741-543a4bb1a329",
   "metadata": {
    "tags": []
   },
   "outputs": [
    {
     "data": {
      "image/png": "[encoded data removed]",
      "text/plain": [
       "<Figure size 900x600 with 1 Axes>"
      ]
     },
     "metadata": {},
     "output_type": "display_data"
    }
   ],
   "source": [
    "#Set the figure size\n",
    "plt.figure(figsize = (9,6))\n",
    "\n",
    "#Plot the data and the model\n",
    "plt.scatter(x, y, linewidth=2)\n",
    "plt.plot(x, result.best_fit, 'r-', linewidth=2.5)\n",
    "\n",
    "# Set plot labels and title\n",
    "plt.xlabel('V ($V$)')\n",
    "plt.ylabel('I ($A$)')\n",
    "plt.title('Normal State IVC')\n",
    "\n",
    "#Show the plot\n",
    "plt.show()"
   ]
  },
  {
   "cell_type": "markdown",
   "id": "b4bf727c-9b28-4da8-b6c6-4fb66078c772",
   "metadata": {},
   "source": [
    "# Calculating the theoretical Ic and V_gap\n",
    "\n",
    "![](./img/Ic_formula.png)"
   ]
  },
  {
   "cell_type": "code",
   "execution_count": 15,
   "id": "9c3f054f-0b07-4f8f-b3de-a8fdd96668ba",
   "metadata": {
    "tags": []
   },
   "outputs": [
    {
     "data": {
      "text/plain": [
       "{'slope': 8246.149431422971, 'intercept': -3708431.8475874146}"
      ]
     },
     "execution_count": 15,
     "metadata": {},
     "output_type": "execute_result"
    }
   ],
   "source": [
    "#Access the model parameters\n",
    "varys = result.params.valuesdict()\n",
    "\n",
    "varys"
   ]
  },
  {
   "cell_type": "code",
   "execution_count": 16,
   "id": "b00cd57a-cc33-4faf-a5ee-3ae6e148bd15",
   "metadata": {
    "tags": []
   },
   "outputs": [
    {
     "name": "stdout",
     "output_type": "stream",
     "text": [
      "Normal state resistance: R_n =  0.000121 Ohm\n"
     ]
    }
   ],
   "source": [
    "#The slope is equal to 1 / R \n",
    "R_n = 1 / varys.get(\"slope\")\n",
    "\n",
    "print('Normal state resistance: R_n = ', round(R_n, 6), 'Ohm') "
   ]
  },
  {
   "cell_type": "code",
   "execution_count": 17,
   "id": "9447a90f-624a-41a4-9975-06e5b6d0a2b4",
   "metadata": {
    "tags": []
   },
   "outputs": [
    {
     "name": "stdout",
     "output_type": "stream",
     "text": [
      "Temperature = 6.43295378 K\n",
      "-----------------------------\n",
      "-----------------------------\n",
      "Weak Coupling Formula\n",
      "-----------------------------\n",
      "delta_t = 2.163291314482865e-22 J\n",
      "Gap Energy = 4.32658262896573e-22 J\n",
      "Gap Voltage = 2.7004010916026275 mV\n",
      "Josephson Current = 14.673478843770779 uA\n",
      "______________________________\n",
      "______________________________\n",
      "------------------------------\n",
      "Strong Coupling Approximation\n",
      "------------------------------\n",
      "delta_t = 1.9182974582329632e-22 J\n",
      "Gap Energy =  3.8365949164659263e-22 J\n",
      "Gap Voltage = 2.39457927628631 mV\n",
      "Josephson Current = 12.30066240301557 uA\n",
      "________________________________\n",
      "________________________________\n",
      "________________________________\n"
     ]
    }
   ],
   "source": [
    "#Define the terms for the strong and weak coupling formulas \n",
    "t_c = 9.25 #critical temperature\n",
    "delta_0 = 2.25288819E-22 # from 1.764 * k_B * t_c,  [check eqn. 1 on the report paper] \n",
    "t = 6.43295378 #from the calibration curve in notebook 2\n",
    "e = 1.6022E-19 #elementay charge\n",
    "pi = 3.14159265358979323846264338327950 \n",
    "t_red = t / t_c #the reduced temperature\n",
    "k_B = 1.3807E-23 #Boltzmann constant\n",
    "R_n = 1 / varys.get(\"slope\") #from the slope of the IVC\n",
    "\n",
    "\n",
    "#weak coupling formula\n",
    "\n",
    "delta_weak = delta_0 * 1.74 * math.sqrt(1.0 - t_red)\n",
    "\n",
    "E_weak = delta_weak * 2\n",
    "\n",
    "V_weak = (E_weak / e) * 1000\n",
    "\n",
    "#The Ambegaokar-Baratoff formula\n",
    "Ic_weak = (pi / 2) * (delta_weak / (e * R_n)) * math.tanh(delta_weak / (2 * k_B * t))\n",
    "\n",
    "\n",
    "#strong coupling approximation\n",
    "\n",
    "delta_strong = (delta_0) * math.sqrt(math.cos((pi * t_red**2)  / 2 )) \n",
    "\n",
    "E_strong = delta_strong * 2\n",
    "\n",
    "V_strong = (E_strong / e) * 1000\n",
    "\n",
    "#The Ambegaokar-Baratoff formula\n",
    "Ic_strong = (pi / 2) * (delta_strong / (e * R_n)) * math.tanh(delta_strong / (2 * k_B * t))\n",
    "\n",
    "\n",
    "#Print the results\n",
    "print('Temperature =', t, 'K')\n",
    "print('-----------------------------')\n",
    "print('-----------------------------')\n",
    "                         \n",
    "print('Weak Coupling Formula')\n",
    "print('-----------------------------')\n",
    "\n",
    "\n",
    "print('delta_t =', delta_weak, 'J')\n",
    "print('Gap Energy =', E_weak, 'J')\n",
    "print('Gap Voltage =', V_weak, 'mV')\n",
    "print('Josephson Current =', Ic_weak, 'uA')\n",
    "print('______________________________')\n",
    "print('______________________________')\n",
    "print('------------------------------')\n",
    "print('Strong Coupling Approximation')\n",
    "print('------------------------------')\n",
    "\n",
    "print('delta_t =', delta_strong, 'J')\n",
    "print('Gap Energy = ', E_strong, 'J')\n",
    "print('Gap Voltage =', V_strong, 'mV')\n",
    "print('Josephson Current =', Ic_strong, 'uA')\n",
    "print('________________________________')\n",
    "print('________________________________')\n",
    "print('________________________________')"
   ]
  },
  {
   "cell_type": "code",
   "execution_count": 18,
   "id": "ef1804d8-51d9-4eea-ac5c-b806b800994a",
   "metadata": {},
   "outputs": [
    {
     "name": "stdout",
     "output_type": "stream",
     "text": [
      "{'Ic': 16.0052, 'Ic_weak': 14.6735, 'Ic_strong': 12.3007, 'V_gap': 2.401, 'Vg_weak': 2.7004, 'Vg_strong': 2.3946, 'Temp': 6.433}\n"
     ]
    }
   ],
   "source": [
    "#Add all the collected results to a dictionary\n",
    "Josephson_data = {\"Ic\" : np.interp(V[5], V, I) , \"Ic_weak\" : round(Ic_weak, 4), \"Ic_strong\" : round(Ic_strong, 4), \"V_gap\" : V[1], \"Vg_weak\" : round(V_weak, 4), \"Vg_strong\" : round(V_strong, 4), \"Temp\" : round(t, 4)}\n",
    "\n",
    "#Preview the newly created row of data\n",
    "print(Josephson_data)"
   ]
  },
  {
   "cell_type": "markdown",
   "id": "c29b131a-d29f-4f75-ba01-4e28fbbc0548",
   "metadata": {},
   "source": [
    "## Export the results to a csv file"
   ]
  },
  {
   "cell_type": "code",
   "execution_count": 19,
   "id": "565be433-d8b5-44ea-a793-bbf072ae75c6",
   "metadata": {},
   "outputs": [],
   "source": [
    "# import csv\n",
    "\n",
    "# with open(r'./Data/Josephson_data.csv', 'a', newline='') as csvfile:\n",
    "#     fieldnames = ['Ic','Ic_weak', 'Ic_strong', 'V_gap', 'Vg_weak', 'Vg_strong', 'Temp']\n",
    "#     writer = csv.DictWriter(csvfile, fieldnames=fieldnames)\n",
    "\n",
    "#     writer.writerow(Josephson_data)"
   ]
  },
  {
   "cell_type": "markdown",
   "id": "55f9e1ba-ea28-4854-8b64-a7ac34c3ddf8",
   "metadata": {},
   "source": [
    "## Author\n",
    "** **\n",
    "\n",
    "### <a href=\"https://www.linkedin.com/in/alin-airinei/\">Alin Airinei</a>"
   ]
  }
 ],
 "metadata": {
  "kernelspec": {
   "display_name": "Python 3 (ipykernel)",
   "language": "python",
   "name": "python3"
  },
  "language_info": {
   "codemirror_mode": {
    "name": "ipython",
    "version": 3
   },
   "file_extension": ".py",
   "mimetype": "text/x-python",
   "name": "python",
   "nbconvert_exporter": "python",
   "pygments_lexer": "ipython3",
   "version": "3.11.4"
  },
  "widgets": {
   "application/vnd.jupyter.widget-state+json": {
    "state": {},
    "version_major": 2,
    "version_minor": 0
   }
  }
 },
 "nbformat": 4,
 "nbformat_minor": 5
}
