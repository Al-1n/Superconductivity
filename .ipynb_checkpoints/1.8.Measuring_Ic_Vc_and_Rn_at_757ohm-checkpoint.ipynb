{
 "cells": [
  {
   "cell_type": "markdown",
   "id": "d8a8a37e-f395-405f-a07d-0349694b422d",
   "metadata": {},
   "source": [
    "# Measuring the Josephson Current, the gap voltage and the normal state resistance at 757ohm \n",
    "** **\n",
    " * This project uses the lmfit package. Lmfit provides curve fiting using non-linear least squares minimization and was developed by Matt Newville: https://github.com/newville."
   ]
  },
  {
   "cell_type": "markdown",
   "id": "99bc9cd0-0ca7-4229-bb2d-1414a58bec04",
   "metadata": {},
   "source": [
    "## Install and import libraries"
   ]
  },
  {
   "cell_type": "code",
   "execution_count": 1,
   "id": "fe638614-0386-4845-b482-4cf89c0a7ec4",
   "metadata": {},
   "outputs": [],
   "source": [
    "#uncomment the following line to install lmfit\n",
    "#!pip install lmfit"
   ]
  },
  {
   "cell_type": "code",
   "execution_count": 2,
   "id": "04360f36-197c-420b-8d71-f2df94a17d09",
   "metadata": {
    "tags": []
   },
   "outputs": [],
   "source": [
    "import pandas as pd\n",
    "import numpy as np\n",
    "import seaborn as sns\n",
    "import matplotlib.pyplot as plt\n",
    "from lmfit.models import LinearModel\n",
    "import math"
   ]
  },
  {
   "cell_type": "markdown",
   "id": "0754b065-979d-4761-ae32-c4f0e97c6630",
   "metadata": {},
   "source": [
    "## Data"
   ]
  },
  {
   "cell_type": "code",
   "execution_count": 3,
   "id": "b466b556-6609-46cb-ace8-4d4f8e8be730",
   "metadata": {
    "tags": []
   },
   "outputs": [
    {
     "data": {
      "text/html": [
       "<div>\n",
       "<style scoped>\n",
       "    .dataframe tbody tr th:only-of-type {\n",
       "        vertical-align: middle;\n",
       "    }\n",
       "\n",
       "    .dataframe tbody tr th {\n",
       "        vertical-align: top;\n",
       "    }\n",
       "\n",
       "    .dataframe thead th {\n",
       "        text-align: right;\n",
       "    }\n",
       "</style>\n",
       "<table border=\"1\" class=\"dataframe\">\n",
       "  <thead>\n",
       "    <tr style=\"text-align: right;\">\n",
       "      <th></th>\n",
       "      <th>0</th>\n",
       "      <th>1</th>\n",
       "      <th>2</th>\n",
       "    </tr>\n",
       "  </thead>\n",
       "  <tbody>\n",
       "    <tr>\n",
       "      <th>0</th>\n",
       "      <td>-7.866</td>\n",
       "      <td>-60.8799</td>\n",
       "      <td>0.00308</td>\n",
       "    </tr>\n",
       "    <tr>\n",
       "      <th>1</th>\n",
       "      <td>-7.527</td>\n",
       "      <td>-58.5666</td>\n",
       "      <td>0.00296</td>\n",
       "    </tr>\n",
       "    <tr>\n",
       "      <th>2</th>\n",
       "      <td>-7.146</td>\n",
       "      <td>-55.6790</td>\n",
       "      <td>0.00282</td>\n",
       "    </tr>\n",
       "    <tr>\n",
       "      <th>3</th>\n",
       "      <td>-6.821</td>\n",
       "      <td>-53.0376</td>\n",
       "      <td>0.00269</td>\n",
       "    </tr>\n",
       "    <tr>\n",
       "      <th>4</th>\n",
       "      <td>-6.496</td>\n",
       "      <td>-50.2946</td>\n",
       "      <td>0.00255</td>\n",
       "    </tr>\n",
       "  </tbody>\n",
       "</table>\n",
       "</div>"
      ],
      "text/plain": [
       "       0        1        2\n",
       "0 -7.866 -60.8799  0.00308\n",
       "1 -7.527 -58.5666  0.00296\n",
       "2 -7.146 -55.6790  0.00282\n",
       "3 -6.821 -53.0376  0.00269\n",
       "4 -6.496 -50.2946  0.00255"
      ]
     },
     "execution_count": 3,
     "metadata": {},
     "output_type": "execute_result"
    }
   ],
   "source": [
    "#Load the data\n",
    "df = pd.read_csv(\"./Data/757_one_pass.csv\", sep = \" \", header = None)\n",
    "\n",
    "#Preview the data\n",
    "df.head()"
   ]
  },
  {
   "cell_type": "markdown",
   "id": "69f59ccf-9d58-428a-aba2-80e58fb89e31",
   "metadata": {},
   "source": [
    "## Data wrangling"
   ]
  },
  {
   "cell_type": "code",
   "execution_count": 4,
   "id": "e0e46b58-f661-4940-a460-22838f6fb379",
   "metadata": {
    "tags": []
   },
   "outputs": [
    {
     "name": "stdout",
     "output_type": "stream",
     "text": [
      "V =  [-7.866, -7.527, -7.146, -6.821, -6.496, -6.186, -5.882, -5.571, -5.232, -4.929, -4.639, -4.357, -4.103, -3.848, -3.538, -3.298, -3.001, -2.662, -2.648, -2.613, -2.592, -2.577, -2.563, -2.549, -2.549, -2.521, -2.479, 0.064, 0.049, 0.064, 0.057, 0.064, 0.064, 2.323, 2.683, 2.697, 2.697, 2.712, 2.747, 2.966, 3.291, 3.559, 3.778, 4.053, 4.336, 4.576, 4.83, 5.141, 5.374, 5.663, 5.953, 6.256, 6.518, 6.871, 7.153, 7.471, 7.76, 8.099, 8.071, 7.873, 7.676, 7.471, 7.308, 7.083, 6.913, 6.715, 6.532, 6.341, 6.15, 5.981, 5.783, 5.621, 5.444, 5.282, 5.127, 4.943, 4.781, 4.597, 4.463, 4.265, 4.124, 3.983, 3.799, 3.658, 3.474, 3.347, 3.135, 2.853, 2.81, 2.796, 2.796, 2.768, 2.775, 2.74, 2.754, 2.74, 2.726, 2.726, 2.712, 2.726, 2.719, 2.697, 2.669, 2.57, 0.106, 0.12, 0.113, 0.127, 0.099, 0.113, 0.113, 0.127, 0.099, -0.254, -2.521, -2.514, -2.507, -2.535, -2.535, -2.563, -2.549, -2.577, -2.606, -2.916, -3.093, -3.248, -3.397, -3.566, -3.721, -3.919, -4.067, -4.258, -4.413, -4.625, -4.781, -4.936, -5.134, -5.331, -5.508, -5.699, -5.903, -6.101, -6.292, -6.511, -6.694, -6.92, -7.174, -7.351, -7.527, -7.746, -7.824]\n",
      "I =  [-60.8799, -58.5666, -55.679, -53.0376, -50.2946, -47.5782, -44.9047, -42.5628, -40.2203, -37.9432, -35.4416, -33.1898, -30.5095, -28.4446, -26.3537, -24.1803, -21.923, -19.7742, -17.8211, -15.6497, -13.726, -11.8534, -10.0048, -7.9507, -6.2446, -4.3707, -2.6489, -0.9175, 0.9851, 2.6816, 4.5105, 6.263, 8.0981, 9.955, 11.6761, 13.4184, 15.2561, 17.2603, 19.2052, 21.4762, 23.2764, 25.4519, 27.5837, 29.7885, 31.6399, 34.1141, 36.0174, 38.36, 40.6964, 43.1638, 45.1974, 47.6123, 50.0695, 52.397, 54.8631, 57.5324, 59.8682, 62.3438, 61.4406, 59.9207, 58.2139, 56.7636, 55.2281, 53.6604, 52.322, 50.6439, 49.3075, 47.6096, 46.1449, 44.6257, 43.2102, 41.9571, 40.4372, 39.2297, 37.7828, 36.4792, 35.0944, 33.7928, 32.2204, 31.0532, 29.5784, 28.4794, 26.9445, 25.8087, 24.3665, 23.1107, 21.8514, 20.6173, 19.3485, 18.2031, 16.8408, 15.6927, 14.3645, 13.2799, 12.1352, 10.9236, 9.8294, 8.68, 7.4466, 6.3463, 5.1729, 4.0937, 3.0882, 2.0233, 0.7961, -0.2613, -1.32, -2.4013, -3.6578, -4.6783, -5.8599, -7.0632, -8.1888, -9.281, -10.6317, -11.6536, -13.0186, -14.1994, -15.3919, -16.6232, -17.9098, -19.1766, -20.3022, -21.6836, -23.0206, -24.3031, -25.7302, -27.1362, -28.4596, -29.9147, -31.2899, -32.6597, -33.9415, -35.4457, -36.8094, -38.4159, -39.8437, -41.5955, -43.0424, -44.7437, -46.267, -47.909, -49.3873, -50.9938, -52.6965, -54.3904, -55.9559, -57.6293, -59.4507, -61.313, -60.6568]\n"
     ]
    }
   ],
   "source": [
    "#Ascribe the columns to the V and I varibles \n",
    "V = list(df[0])\n",
    "I = list(df[1])\n",
    "\n",
    "#Preview the data\n",
    "print(\"V = \", V)\n",
    "print(\"I = \", I )"
   ]
  },
  {
   "cell_type": "code",
   "execution_count": 5,
   "id": "916e74e8-0298-4365-b57c-a2e61a62c345",
   "metadata": {
    "tags": []
   },
   "outputs": [
    {
     "name": "stdout",
     "output_type": "stream",
     "text": [
      "32\n",
      "49\n"
     ]
    }
   ],
   "source": [
    "lower_limit = V.index(0.064) + 5\n",
    "upper_limit = V.index(5.663)\n",
    "\n",
    "print(lower_limit)\n",
    "print(upper_limit)"
   ]
  },
  {
   "cell_type": "code",
   "execution_count": 6,
   "id": "d68cd360-3b84-4be3-968d-8d77562286e7",
   "metadata": {
    "tags": []
   },
   "outputs": [
    {
     "name": "stdout",
     "output_type": "stream",
     "text": [
      "V =  [0.064 2.323 2.683 2.697 2.697 2.712 2.747 2.966 3.291 3.559 3.778 4.053\n",
      " 4.336 4.576 4.83  5.141 5.374]\n",
      "I =  [ 8.0981  9.955  11.6761 13.4184 15.2561 17.2603 19.2052 21.4762 23.2764\n",
      " 25.4519 27.5837 29.7885 31.6399 34.1141 36.0174 38.36   40.6964]\n"
     ]
    }
   ],
   "source": [
    "#Remove the data above the chosen upper limit to enhance the view and focus on the single forward pass\n",
    "V = np.array(V[lower_limit:upper_limit])\n",
    "\n",
    "I = np.array(I[lower_limit:upper_limit])\n",
    "\n",
    "#Preview the new subsets\n",
    "print(\"V = \", V)\n",
    "print(\"I = \", I)"
   ]
  },
  {
   "cell_type": "code",
   "execution_count": 7,
   "id": "aede1c1b-543e-4e7f-bd18-2cac0aa30847",
   "metadata": {
    "tags": []
   },
   "outputs": [
    {
     "data": {
      "text/plain": [
       "<seaborn.axisgrid.FacetGrid at 0x7f8875c6b450>"
      ]
     },
     "execution_count": 7,
     "metadata": {},
     "output_type": "execute_result"
    },
    {
     "data": {
      "image/png": "[encoded data removed]",
      "text/plain": [
       "<Figure size 500x500 with 1 Axes>"
      ]
     },
     "metadata": {},
     "output_type": "display_data"
    }
   ],
   "source": [
    "#Uncomment the line below to make the graph interactive\n",
    "#%matplotlib widget\n",
    "\n",
    "#Preview the data\n",
    "sns.relplot(x = V, y = I, kind = \"line\")"
   ]
  },
  {
   "cell_type": "code",
   "execution_count": 8,
   "id": "6909a570-bf72-4f1b-b00d-4e955bfc4a82",
   "metadata": {
    "tags": []
   },
   "outputs": [
    {
     "data": {
      "image/png": "[encoded data removed]",
      "text/plain": [
       "<Figure size 900x600 with 1 Axes>"
      ]
     },
     "metadata": {},
     "output_type": "display_data"
    }
   ],
   "source": [
    "#Uncomment the line below to make the graph interactive\n",
    "#%matplotlib widget\n",
    "\n",
    "#Set figure size\n",
    "plt.figure(figsize=(9,6))\n",
    "\n",
    "# Define the data\n",
    "V = np.array(V)\n",
    "I = np.array(I)\n",
    "\n",
    "\n",
    "# Define the window size\n",
    "window_size = 6\n",
    "\n",
    "# Calculate the moving averages\n",
    "V_avg = np.convolve(V, np.ones(window_size)/window_size, mode='same')\n",
    "I_avg = np.convolve(I, np.ones(window_size)/window_size, mode='same')\n",
    "\n",
    "# Calculate the standard deviations\n",
    "V_std = np.std(V)\n",
    "I_std = np.std(I)\n",
    "\n",
    "# Calculate the z-scores\n",
    "V_z = (V - V_avg) / V_std\n",
    "I_z = (I - I_avg) / I_std\n",
    "\n",
    "# Calculate the change points\n",
    "change_points = []\n",
    "for i in range(len(V_z)):\n",
    "    if abs(V_z[i]) > 3 or abs(I_z[i]) > 0.01:\n",
    "        change_points.append(i)\n",
    "\n",
    "# Mark the change points on the plot\n",
    "for point in change_points:\n",
    "    plt.axvline(V[point], color='r', linestyle='--', alpha=0.5)\n",
    "\n",
    "    \n",
    "# Plot the data again\n",
    "sns.lineplot(x=V, y=I, color = 'orange')  \n",
    "    \n",
    "# Set plot labels and title\n",
    "plt.xlabel('V')\n",
    "plt.ylabel('I')\n",
    "plt.title('Inflection Points Detection')\n",
    "\n",
    "# Show the plot\n",
    "plt.show()"
   ]
  },
  {
   "cell_type": "markdown",
   "id": "bc785054-bd2d-4230-86b4-fa6440d296cd",
   "metadata": {},
   "source": [
    "### Clear the graph above to focus on Ic and Vc"
   ]
  },
  {
   "cell_type": "code",
   "execution_count": 9,
   "id": "1311acd9-0417-4089-a690-7627baaf5f39",
   "metadata": {
    "tags": []
   },
   "outputs": [
    {
     "data": {
      "image/png": "[encoded data removed]",
      "text/plain": [
       "<Figure size 900x600 with 1 Axes>"
      ]
     },
     "metadata": {},
     "output_type": "display_data"
    }
   ],
   "source": [
    "#Uncomment the line below to make the graph interactive\n",
    "#%matplotlib widget\n",
    "\n",
    "#Set figure size\n",
    "plt.figure(figsize=(9,6))\n",
    "\n",
    "# Define the window size\n",
    "window_size = 6\n",
    "\n",
    "# Calculate the moving averages\n",
    "V_avg = np.convolve(V, np.ones(window_size)/window_size, mode='same')\n",
    "I_avg = np.convolve(I, np.ones(window_size)/window_size, mode='same')\n",
    "\n",
    "# Calculate the standard deviations\n",
    "V_std = np.std(V)\n",
    "I_std = np.std(I)\n",
    "\n",
    "# Calculate the z-scores\n",
    "V_z = (V - V_avg) / V_std\n",
    "I_z = (I - I_avg) / I_std\n",
    "\n",
    "# Calculate the change points\n",
    "change_points = []\n",
    "for i in range(len(V_z)):\n",
    "    if abs(V_z[i]) > 3 or abs(I_z[i]) > 0.01:\n",
    "        change_points.append(i)\n",
    "\n",
    "# Annotate inflection points on the graph\n",
    "for idx, point in enumerate(change_points):\n",
    "    if idx in [2, 6]:\n",
    "        plt.annotate(f'Inflection Point\\n(V={V[point]:.3f}mV)\\n(I = {np.interp(V[point], V, I):3f}$\\mu A$)', \n",
    "                     xy=(V[point], np.interp(V[point], V, I)),\n",
    "                     xytext=(V[point] - 1.2, np.interp(V[point], V, I) + 3),\n",
    "                     arrowprops={'facecolor': 'red', 'shrink': 0.05})\n",
    "\n",
    "    \n",
    "# Plot the data again\n",
    "sns.lineplot(x=V, y=I, color = 'orange')  \n",
    "    \n",
    "# Set plot labels and title\n",
    "plt.xlabel('V')\n",
    "plt.ylabel('I')\n",
    "plt.title('Inflection Points Detection')\n",
    "\n",
    "# Show the plot\n",
    "plt.show()"
   ]
  },
  {
   "cell_type": "markdown",
   "id": "e85392e7-7fdc-4476-805f-665973b49608",
   "metadata": {},
   "source": [
    "# Estimating the normal state resistance (Rn)"
   ]
  },
  {
   "cell_type": "code",
   "execution_count": 10,
   "id": "59c0fa22-6aaf-4859-b923-3ff6aa7fe6de",
   "metadata": {
    "tags": []
   },
   "outputs": [
    {
     "name": "stdout",
     "output_type": "stream",
     "text": [
      "[-7.866, -7.527, -7.146, -6.821, -6.496, -6.186, -5.882, -5.571, -5.232, -4.929, -4.639, -4.357, -4.103, -3.848, -3.538, -3.298, -3.001, -2.662, -2.648, -2.613, -2.592, -2.577, -2.563, -2.549, -2.549, -2.521, -2.479, 0.064, 0.049, 0.064, 0.057, 0.064, 0.064, 2.323, 2.683, 2.697, 2.697, 2.712, 2.747, 2.966, 3.291, 3.559, 3.778, 4.053, 4.336, 4.576, 4.83, 5.141, 5.374, 5.663, 5.953, 6.256, 6.518, 6.871, 7.153, 7.471, 7.76, 8.099, 8.071, 7.873, 7.676, 7.471, 7.308, 7.083, 6.913, 6.715, 6.532, 6.341, 6.15, 5.981, 5.783, 5.621, 5.444, 5.282, 5.127, 4.943, 4.781, 4.597, 4.463, 4.265, 4.124, 3.983, 3.799, 3.658, 3.474, 3.347, 3.135, 2.853, 2.81, 2.796, 2.796, 2.768, 2.775, 2.74, 2.754, 2.74, 2.726, 2.726, 2.712, 2.726, 2.719, 2.697, 2.669, 2.57, 0.106, 0.12, 0.113, 0.127, 0.099, 0.113, 0.113, 0.127, 0.099, -0.254, -2.521, -2.514, -2.507, -2.535, -2.535, -2.563, -2.549, -2.577, -2.606, -2.916, -3.093, -3.248, -3.397, -3.566, -3.721, -3.919, -4.067, -4.258, -4.413, -4.625, -4.781, -4.936, -5.134, -5.331, -5.508, -5.699, -5.903, -6.101, -6.292, -6.511, -6.694, -6.92, -7.174, -7.351, -7.527, -7.746, -7.824]\n"
     ]
    }
   ],
   "source": [
    "#Preview the main dataset\n",
    "print(list(df[0]))"
   ]
  },
  {
   "cell_type": "code",
   "execution_count": 11,
   "id": "78ae52f8-aafc-41de-a28e-b7e91c22e3e3",
   "metadata": {
    "tags": []
   },
   "outputs": [
    {
     "name": "stdout",
     "output_type": "stream",
     "text": [
      "38\n",
      "57\n"
     ]
    }
   ],
   "source": [
    "#The dataset includes points from two complete sweeps\n",
    "#Identify the index of the approximate limits of the normal state on the positive side of the graph \n",
    "\n",
    "#Function for detecting the first occurrence of an item in a list\n",
    "def find_first_occurrence(value, list):\n",
    "    for i, item in enumerate(list):\n",
    "        if item == value:\n",
    "            first_occurrence = i\n",
    "            break\n",
    "    return first_occurrence\n",
    "\n",
    "low_limit = find_first_occurrence(2.747, list(df[0])) #the second change point above\n",
    "up_limit = list(df[0]).index(df[0].max()) \n",
    "\n",
    "print(low_limit) \n",
    "print(up_limit)"
   ]
  },
  {
   "cell_type": "code",
   "execution_count": 12,
   "id": "b864c5cd-63be-4c90-ba23-6d975b3d44c4",
   "metadata": {
    "tags": []
   },
   "outputs": [
    {
     "name": "stdout",
     "output_type": "stream",
     "text": [
      "[2.747 2.966 3.291 3.559 3.778 4.053 4.336 4.576 4.83  5.141 5.374 5.663\n",
      " 5.953 6.256 6.518 6.871 7.153 7.471 7.76 ]\n",
      "[19.2052 21.4762 23.2764 25.4519 27.5837 29.7885 31.6399 34.1141 36.0174\n",
      " 38.36   40.6964 43.1638 45.1974 47.6123 50.0695 52.397  54.8631 57.5324\n",
      " 59.8682]\n"
     ]
    }
   ],
   "source": [
    "#Select data from the first pass\n",
    "V_n = np.array(df[0][low_limit:up_limit])\n",
    "I_n = np.array(df[1][low_limit:up_limit])\n",
    "\n",
    "#Preview the data\n",
    "print(V_n)\n",
    "print(I_n)"
   ]
  },
  {
   "cell_type": "markdown",
   "id": "85c19d83-70af-4459-979f-865a26a9e202",
   "metadata": {},
   "source": [
    "## Define the model and fit the data"
   ]
  },
  {
   "cell_type": "code",
   "execution_count": 13,
   "id": "14e579a1-d903-42ee-9b29-f3b31a16d046",
   "metadata": {
    "tags": []
   },
   "outputs": [
    {
     "name": "stdout",
     "output_type": "stream",
     "text": [
      "[[Model]]\n",
      "    Model(linear)\n",
      "[[Fit Statistics]]\n",
      "    # fitting method   = leastsq\n",
      "    # function evals   = 7\n",
      "    # data points      = 19\n",
      "    # variables        = 2\n",
      "    chi-square         = 17.0171325\n",
      "    reduced chi-square = 1.00100779\n",
      "    Akaike info crit   = 1.90585133\n",
      "    Bayesian info crit = 3.79472928\n",
      "    R-squared          = 1.00000000\n",
      "[[Variables]]\n",
      "    slope:      8097.87022 +/- 48.6644971 (0.60%) (init = 8119.854)\n",
      "    intercept: -3046849.77 +/- 213867.712 (7.02%) (init = -3149249)\n",
      "[[Correlations]] (unreported correlations are < 0.100)\n",
      "    C(slope, intercept) = -0.9519\n"
     ]
    }
   ],
   "source": [
    "#Define the variables and convert to Volts and Amps\n",
    "x = V_n / 0.001\n",
    "y = I_n / 0.000001\n",
    "\n",
    "#Use builtin NameModel, specify prefix for each:\n",
    "mod = LinearModel(prefix='') \n",
    "\n",
    "#Set the initial parameters to 'guess' mode\n",
    "pars  = mod.guess(y, x = x)\n",
    "\n",
    "#Fit with weights=1/yerr\n",
    "result = mod.fit(y, pars, x = x, weights= 1. / (y * 0.008734))\n",
    "\n",
    "#Print the fit results\n",
    "print(result.fit_report())"
   ]
  },
  {
   "cell_type": "markdown",
   "id": "4e2b31af-3b9f-41ff-bab6-429b46e63cd5",
   "metadata": {},
   "source": [
    "## Plot the model"
   ]
  },
  {
   "cell_type": "code",
   "execution_count": 14,
   "id": "b562e985-269d-4d96-9741-543a4bb1a329",
   "metadata": {
    "tags": []
   },
   "outputs": [
    {
     "data": {
      "image/png": "[encoded data removed]",
      "text/plain": [
       "<Figure size 900x600 with 1 Axes>"
      ]
     },
     "metadata": {},
     "output_type": "display_data"
    }
   ],
   "source": [
    "#Set the figure size\n",
    "plt.figure(figsize = (9,6))\n",
    "\n",
    "#Plot the data and the model\n",
    "plt.scatter(x, y, linewidth=2)\n",
    "plt.plot(x, result.best_fit, 'r-', linewidth=2.5)\n",
    "\n",
    "# Set plot labels and title\n",
    "plt.xlabel('V ($V$)')\n",
    "plt.ylabel('I ($A$)')\n",
    "plt.title('Normal State IVC')\n",
    "\n",
    "#Show the plot\n",
    "plt.show()"
   ]
  },
  {
   "cell_type": "markdown",
   "id": "b4bf727c-9b28-4da8-b6c6-4fb66078c772",
   "metadata": {},
   "source": [
    "# Calculating the theoretical Ic and V_gap\n",
    "\n",
    "![](./img/Ic_formula.png)"
   ]
  },
  {
   "cell_type": "code",
   "execution_count": 15,
   "id": "9c3f054f-0b07-4f8f-b3de-a8fdd96668ba",
   "metadata": {
    "tags": []
   },
   "outputs": [
    {
     "data": {
      "text/plain": [
       "{'slope': 8097.870222829204, 'intercept': -3046849.7690237192}"
      ]
     },
     "execution_count": 15,
     "metadata": {},
     "output_type": "execute_result"
    }
   ],
   "source": [
    "#Access the model parameters\n",
    "varys = result.params.valuesdict()\n",
    "\n",
    "varys"
   ]
  },
  {
   "cell_type": "code",
   "execution_count": 16,
   "id": "b00cd57a-cc33-4faf-a5ee-3ae6e148bd15",
   "metadata": {
    "tags": []
   },
   "outputs": [
    {
     "name": "stdout",
     "output_type": "stream",
     "text": [
      "Normal state resistance: R_n =  0.000123 Ohm\n"
     ]
    }
   ],
   "source": [
    "#The slope is equal to 1 / R \n",
    "R_n = 1 / varys.get(\"slope\")\n",
    "\n",
    "print('Normal state resistance: R_n = ', round(R_n, 6), 'Ohm') "
   ]
  },
  {
   "cell_type": "code",
   "execution_count": 17,
   "id": "9447a90f-624a-41a4-9975-06e5b6d0a2b4",
   "metadata": {
    "tags": []
   },
   "outputs": [
    {
     "name": "stdout",
     "output_type": "stream",
     "text": [
      "Temperature = 5.65115503 K\n",
      "-----------------------------\n",
      "-----------------------------\n",
      "Weak Coupling Formula\n",
      "-----------------------------\n",
      "delta_t = 2.445116687352232e-22 J\n",
      "Gap Energy = 4.890233374704464e-22 J\n",
      "Gap Voltage = 3.0521990854477994 mV\n",
      "Josephson Current = 17.791746490473457 uA\n",
      "______________________________\n",
      "______________________________\n",
      "------------------------------\n",
      "Strong Coupling Approximation\n",
      "------------------------------\n",
      "delta_t = 2.056185113301933e-22 J\n",
      "Gap Energy =  4.112370226603866e-22 J\n",
      "Gap Voltage = 2.56670217613523 mV\n",
      "Josephson Current = 14.14007920413296 uA\n",
      "________________________________\n",
      "________________________________\n",
      "________________________________\n"
     ]
    }
   ],
   "source": [
    "#Define the terms for the strong and weak coupling formulas \n",
    "t_c = 9.25 #critical temperature\n",
    "delta_0 = 2.25288819E-22 # from 1.764 * k_B * t_c,  [check eqn. 1 on the report paper] \n",
    "t = 5.65115503 #from the calibration curve in notebook 2\n",
    "e = 1.6022E-19 #elementay charge\n",
    "pi = 3.14159265358979323846264338327950 \n",
    "t_red = t / t_c #the reduced temperature\n",
    "k_B = 1.3807E-23 #Boltzmann constant\n",
    "R_n = 1 / varys.get(\"slope\") #from the slope of the IVC\n",
    "\n",
    "\n",
    "#weak coupling formula\n",
    "\n",
    "delta_weak = delta_0 * 1.74 * math.sqrt(1.0 - t_red)\n",
    "\n",
    "E_weak = delta_weak * 2\n",
    "\n",
    "V_weak = (E_weak / e) * 1000\n",
    "\n",
    "#The Ambegaokar-Baratoff formula\n",
    "Ic_weak = (pi / 2) * (delta_weak / (e * R_n)) * math.tanh(delta_weak / (2 * k_B * t))\n",
    "\n",
    "\n",
    "#strong coupling approximation\n",
    "\n",
    "delta_strong = (delta_0) * math.sqrt(math.cos((pi * t_red**2)  / 2 )) \n",
    "\n",
    "E_strong = delta_strong * 2\n",
    "\n",
    "V_strong = (E_strong / e) * 1000\n",
    "\n",
    "#The Ambegaokar-Baratoff formula\n",
    "Ic_strong = (pi / 2) * (delta_strong / (e * R_n)) * math.tanh(delta_strong / (2 * k_B * t))\n",
    "\n",
    "\n",
    "#Print the results\n",
    "print('Temperature =', t, 'K')\n",
    "print('-----------------------------')\n",
    "print('-----------------------------')\n",
    "                         \n",
    "print('Weak Coupling Formula')\n",
    "print('-----------------------------')\n",
    "\n",
    "\n",
    "print('delta_t =', delta_weak, 'J')\n",
    "print('Gap Energy =', E_weak, 'J')\n",
    "print('Gap Voltage =', V_weak, 'mV')\n",
    "print('Josephson Current =', Ic_weak, 'uA')\n",
    "print('______________________________')\n",
    "print('______________________________')\n",
    "print('------------------------------')\n",
    "print('Strong Coupling Approximation')\n",
    "print('------------------------------')\n",
    "\n",
    "print('delta_t =', delta_strong, 'J')\n",
    "print('Gap Energy = ', E_strong, 'J')\n",
    "print('Gap Voltage =', V_strong, 'mV')\n",
    "print('Josephson Current =', Ic_strong, 'uA')\n",
    "print('________________________________')\n",
    "print('________________________________')\n",
    "print('________________________________')"
   ]
  },
  {
   "cell_type": "code",
   "execution_count": 18,
   "id": "ef1804d8-51d9-4eea-ac5c-b806b800994a",
   "metadata": {},
   "outputs": [
    {
     "name": "stdout",
     "output_type": "stream",
     "text": [
      "{'Ic': 19.2052, 'Ic_weak': 17.7917, 'Ic_strong': 14.1401, 'V_gap': 2.683, 'Vg_weak': 3.0522, 'Vg_strong': 2.5667, 'Temp': 5.6512}\n"
     ]
    }
   ],
   "source": [
    "#Add all the collected results to a dictionary\n",
    "Josephson_data = {\"Ic\" : np.interp(V[6], V, I) , \"Ic_weak\" : round(Ic_weak, 4), \"Ic_strong\" : round(Ic_strong, 4), \"V_gap\" : V[2], \"Vg_weak\" : round(V_weak, 4), \"Vg_strong\" : round(V_strong, 4), \"Temp\" : round(t, 4)}\n",
    "\n",
    "#Preview the newly created row of data\n",
    "print(Josephson_data)"
   ]
  },
  {
   "cell_type": "markdown",
   "id": "c29b131a-d29f-4f75-ba01-4e28fbbc0548",
   "metadata": {},
   "source": [
    "## Export the results to a csv file"
   ]
  },
  {
   "cell_type": "code",
   "execution_count": 19,
   "id": "565be433-d8b5-44ea-a793-bbf072ae75c6",
   "metadata": {},
   "outputs": [],
   "source": [
    "# import csv\n",
    "\n",
    "# with open(r'./Data/Josephson_data.csv', 'a', newline='') as csvfile:\n",
    "#     fieldnames = ['Ic','Ic_weak', 'Ic_strong', 'V_gap', 'Vg_weak', 'Vg_strong', 'Temp']\n",
    "#     writer = csv.DictWriter(csvfile, fieldnames=fieldnames)\n",
    "\n",
    "#     writer.writerow(Josephson_data)"
   ]
  },
  {
   "cell_type": "markdown",
   "id": "55f9e1ba-ea28-4854-8b64-a7ac34c3ddf8",
   "metadata": {},
   "source": [
    "## Author\n",
    "** **\n",
    "\n",
    "### <a href=\"https://www.linkedin.com/in/alin-airinei/\">Alin Airinei</a>"
   ]
  }
 ],
 "metadata": {
  "kernelspec": {
   "display_name": "Python 3 (ipykernel)",
   "language": "python",
   "name": "python3"
  },
  "language_info": {
   "codemirror_mode": {
    "name": "ipython",
    "version": 3
   },
   "file_extension": ".py",
   "mimetype": "text/x-python",
   "name": "python",
   "nbconvert_exporter": "python",
   "pygments_lexer": "ipython3",
   "version": "3.11.4"
  },
  "widgets": {
   "application/vnd.jupyter.widget-state+json": {
    "state": {},
    "version_major": 2,
    "version_minor": 0
   }
  }
 },
 "nbformat": 4,
 "nbformat_minor": 5
}
