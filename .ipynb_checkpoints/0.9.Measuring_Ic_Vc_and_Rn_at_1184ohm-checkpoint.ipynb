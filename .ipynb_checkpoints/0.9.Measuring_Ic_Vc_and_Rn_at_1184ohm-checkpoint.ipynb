{
 "cells": [
  {
   "cell_type": "markdown",
   "id": "d8a8a37e-f395-405f-a07d-0349694b422d",
   "metadata": {},
   "source": [
    "# Measuring the Josephson Current, the gap voltage and the normal state resistance at 1184ohm \n",
    "** **\n",
    " * This project uses the lmfit package. Lmfit provides curve fiting using non-linear least squares minimization and was developed by Matt Newville: https://github.com/newville."
   ]
  },
  {
   "cell_type": "markdown",
   "id": "99bc9cd0-0ca7-4229-bb2d-1414a58bec04",
   "metadata": {},
   "source": [
    "## Install and import libraries"
   ]
  },
  {
   "cell_type": "code",
   "execution_count": 1,
   "id": "fe638614-0386-4845-b482-4cf89c0a7ec4",
   "metadata": {},
   "outputs": [],
   "source": [
    "#uncomment the following line to install lmfit\n",
    "#!pip install lmfit"
   ]
  },
  {
   "cell_type": "code",
   "execution_count": 2,
   "id": "04360f36-197c-420b-8d71-f2df94a17d09",
   "metadata": {
    "tags": []
   },
   "outputs": [],
   "source": [
    "import pandas as pd\n",
    "import numpy as np\n",
    "import seaborn as sns\n",
    "import matplotlib.pyplot as plt\n",
    "from lmfit.models import LinearModel\n",
    "import math"
   ]
  },
  {
   "cell_type": "markdown",
   "id": "0754b065-979d-4761-ae32-c4f0e97c6630",
   "metadata": {},
   "source": [
    "## Data"
   ]
  },
  {
   "cell_type": "code",
   "execution_count": 3,
   "id": "b466b556-6609-46cb-ace8-4d4f8e8be730",
   "metadata": {
    "tags": []
   },
   "outputs": [
    {
     "data": {
      "text/html": [
       "<div>\n",
       "<style scoped>\n",
       "    .dataframe tbody tr th:only-of-type {\n",
       "        vertical-align: middle;\n",
       "    }\n",
       "\n",
       "    .dataframe tbody tr th {\n",
       "        vertical-align: top;\n",
       "    }\n",
       "\n",
       "    .dataframe thead th {\n",
       "        text-align: right;\n",
       "    }\n",
       "</style>\n",
       "<table border=\"1\" class=\"dataframe\">\n",
       "  <thead>\n",
       "    <tr style=\"text-align: right;\">\n",
       "      <th></th>\n",
       "      <th>0</th>\n",
       "      <th>1</th>\n",
       "      <th>2</th>\n",
       "    </tr>\n",
       "  </thead>\n",
       "  <tbody>\n",
       "    <tr>\n",
       "      <th>0</th>\n",
       "      <td>-8.015</td>\n",
       "      <td>-62.3308</td>\n",
       "      <td>0.00315</td>\n",
       "    </tr>\n",
       "    <tr>\n",
       "      <th>1</th>\n",
       "      <td>-7.633</td>\n",
       "      <td>-59.4910</td>\n",
       "      <td>0.00301</td>\n",
       "    </tr>\n",
       "    <tr>\n",
       "      <th>2</th>\n",
       "      <td>-7.323</td>\n",
       "      <td>-56.6456</td>\n",
       "      <td>0.00287</td>\n",
       "    </tr>\n",
       "    <tr>\n",
       "      <th>3</th>\n",
       "      <td>-6.984</td>\n",
       "      <td>-54.3051</td>\n",
       "      <td>0.00275</td>\n",
       "    </tr>\n",
       "    <tr>\n",
       "      <th>4</th>\n",
       "      <td>-6.701</td>\n",
       "      <td>-51.7572</td>\n",
       "      <td>0.00262</td>\n",
       "    </tr>\n",
       "  </tbody>\n",
       "</table>\n",
       "</div>"
      ],
      "text/plain": [
       "       0        1        2\n",
       "0 -8.015 -62.3308  0.00315\n",
       "1 -7.633 -59.4910  0.00301\n",
       "2 -7.323 -56.6456  0.00287\n",
       "3 -6.984 -54.3051  0.00275\n",
       "4 -6.701 -51.7572  0.00262"
      ]
     },
     "execution_count": 3,
     "metadata": {},
     "output_type": "execute_result"
    }
   ],
   "source": [
    "#Load the data\n",
    "df = pd.read_csv(\"./Data/1184_one_pass.csv\", sep = \" \", header = None)\n",
    "\n",
    "#Preview the data\n",
    "df.head()"
   ]
  },
  {
   "cell_type": "markdown",
   "id": "69f59ccf-9d58-428a-aba2-80e58fb89e31",
   "metadata": {},
   "source": [
    "## Data wrangling"
   ]
  },
  {
   "cell_type": "code",
   "execution_count": 4,
   "id": "e0e46b58-f661-4940-a460-22838f6fb379",
   "metadata": {
    "tags": []
   },
   "outputs": [
    {
     "name": "stdout",
     "output_type": "stream",
     "text": [
      "V =  [-8.015, -7.633, -7.323, -6.984, -6.701, -6.348, -6.016, -5.734, -5.423, -5.127, -4.816, -4.533, -4.265, -3.983, -3.743, -3.397, -3.036, -2.825, -2.81, -2.796, -2.768, -2.768, -2.747, -2.74, -2.726, -2.712, -2.697, -2.669, 0.049, 0.057, 0.057, 0.071, 0.064, 0.064, 1.095, 2.888, 2.895, 2.902, 2.902, 2.916, 2.973, 3.566, 3.792, 4.06, 4.315, 4.604, 4.879, 5.105, 5.437, 5.691, 5.974, 6.228, 6.56, 6.821, 7.146, 7.414, 7.76, 8.092, 8.396, 8.234, 8.022, 7.824, 7.626, 7.429, 7.245, 7.061, 6.849, 6.694, 6.511, 6.334, 6.115, 5.953, 5.762, 5.593, 5.402, 5.247, 5.077, 4.908, 4.738, 4.555, 4.385, 4.258, 4.074, 3.933, 3.721, 3.58, 3.354, 3.001, 2.987, 2.987, 2.973, 2.966, 2.973, 2.959, 2.945, 2.916, 2.916, 2.916, 2.916, 2.902, 2.902, 2.888, 2.86, 2.874, 2.86, 2.832, 0.191, 0.12, 0.12, 0.127, 0.12, 0.106, 0.127, 0.106, 0.12, 0.106, 0.134, -2.69, -2.697, -2.726, -2.726, -2.726, -2.726, -2.726, -2.747, -2.768, -3.107, -3.333, -3.517, -3.672, -3.87, -3.997, -4.194, -4.364, -4.526, -4.71, -4.886, -5.084, -5.275, -5.465, -5.635, -5.797, -6.002, -6.2, -6.369, -6.553, -6.8, -6.984, -7.196, -7.393, -7.591, -7.803, -8.071]\n",
      "I =  [-62.3308, -59.491, -56.6456, -54.3051, -51.7572, -49.0755, -46.6954, -43.9517, -41.809, -39.1561, -36.9963, -34.5241, -32.3275, -29.7005, -27.5857, -25.4908, -23.2519, -21.0935, -19.1193, -16.7603, -14.8687, -12.8856, -11.0198, -9.004, -7.0748, -4.9765, -3.1851, -1.3923, 0.4707, 2.23, 4.1708, 5.9022, 7.8818, 9.7353, 11.4789, 13.6339, 15.3237, 17.4582, 19.4754, 21.4687, 23.5288, 25.5822, 27.5605, 29.7748, 31.9339, 33.8624, 36.0842, 38.4855, 40.6739, 42.88, 45.1346, 47.6232, 50.0974, 52.4714, 54.8344, 57.147, 59.712, 61.9904, 64.1454, 62.6678, 61.0245, 59.5367, 57.7944, 56.4614, 54.844, 53.3118, 51.7026, 50.3219, 48.8156, 47.5318, 45.9655, 44.4947, 42.9421, 41.7313, 40.2162, 38.8914, 37.3094, 36.0222, 34.5105, 33.2798, 31.8711, 30.517, 29.2243, 27.8613, 26.617, 25.3823, 24.0398, 22.685, 21.4414, 20.0968, 18.9317, 17.8368, 16.5079, 15.3639, 14.0848, 12.9299, 11.7034, 10.5334, 9.4863, 8.2584, 7.0769, 5.9022, 4.9246, 3.7138, 2.6257, 1.4196, 0.3807, -0.676, -1.9237, -2.9743, -4.2111, -5.3257, -6.5366, -7.7529, -8.8751, -10.148, -11.2879, -12.5247, -13.563, -14.9116, -16.1054, -17.4452, -18.7018, -20.0873, -21.2449, -22.612, -23.9463, -25.2418, -26.5829, -28.0503, -29.2659, -30.8254, -32.0533, -33.7171, -34.973, -36.5556, -37.9732, -39.4071, -40.8219, -42.2518, -43.7512, -45.2424, -47.0126, -48.3292, -50.0183, -51.6467, -53.2109, -54.7123, -56.4082, -57.924, -59.6642, -61.2516, -62.9625]\n"
     ]
    }
   ],
   "source": [
    "#Ascribe the columns to the V and I varibles \n",
    "V = list(df[0])\n",
    "I = list(df[1])\n",
    "\n",
    "#Preview the data\n",
    "print(\"V = \", V)\n",
    "print(\"I = \", I )"
   ]
  },
  {
   "cell_type": "code",
   "execution_count": 5,
   "id": "916e74e8-0298-4365-b57c-a2e61a62c345",
   "metadata": {
    "tags": []
   },
   "outputs": [
    {
     "name": "stdout",
     "output_type": "stream",
     "text": [
      "33\n",
      "48\n"
     ]
    }
   ],
   "source": [
    "lower_limit = V.index(0.049) + 5\n",
    "upper_limit = V.index(5.437)\n",
    "\n",
    "print(lower_limit)\n",
    "print(upper_limit)"
   ]
  },
  {
   "cell_type": "code",
   "execution_count": 6,
   "id": "d68cd360-3b84-4be3-968d-8d77562286e7",
   "metadata": {
    "tags": []
   },
   "outputs": [
    {
     "name": "stdout",
     "output_type": "stream",
     "text": [
      "V =  [0.064 1.095 2.888 2.895 2.902 2.902 2.916 2.973 3.566 3.792 4.06  4.315\n",
      " 4.604 4.879 5.105]\n",
      "I =  [ 9.7353 11.4789 13.6339 15.3237 17.4582 19.4754 21.4687 23.5288 25.5822\n",
      " 27.5605 29.7748 31.9339 33.8624 36.0842 38.4855]\n"
     ]
    }
   ],
   "source": [
    "#Remove the data above the chosen upper limit to enhance the view and focus on the single forward pass\n",
    "V = np.array(V[lower_limit:upper_limit])\n",
    "\n",
    "I = np.array(I[lower_limit:upper_limit])\n",
    "\n",
    "#Preview the new subsets\n",
    "print(\"V = \", V)\n",
    "print(\"I = \", I)"
   ]
  },
  {
   "cell_type": "code",
   "execution_count": 7,
   "id": "aede1c1b-543e-4e7f-bd18-2cac0aa30847",
   "metadata": {
    "tags": []
   },
   "outputs": [
    {
     "data": {
      "text/plain": [
       "<seaborn.axisgrid.FacetGrid at 0x7faeeb02ce10>"
      ]
     },
     "execution_count": 7,
     "metadata": {},
     "output_type": "execute_result"
    },
    {
     "data": {
      "image/png": "[encoded data removed]",
      "text/plain": [
       "<Figure size 500x500 with 1 Axes>"
      ]
     },
     "metadata": {},
     "output_type": "display_data"
    }
   ],
   "source": [
    "#Uncomment the line below to make the graph interactive\n",
    "#%matplotlib widget\n",
    "\n",
    "#Preview the data\n",
    "sns.relplot(x = V, y = I, kind = \"line\")"
   ]
  },
  {
   "cell_type": "code",
   "execution_count": 8,
   "id": "6909a570-bf72-4f1b-b00d-4e955bfc4a82",
   "metadata": {
    "tags": []
   },
   "outputs": [
    {
     "data": {
      "image/png": "[encoded data removed]",
      "text/plain": [
       "<Figure size 900x600 with 1 Axes>"
      ]
     },
     "metadata": {},
     "output_type": "display_data"
    }
   ],
   "source": [
    "#Uncomment the line below to make the graph interactive\n",
    "#%matplotlib widget\n",
    "\n",
    "#Set figure size\n",
    "plt.figure(figsize=(9,6))\n",
    "\n",
    "# Define the data\n",
    "V = np.array(V)\n",
    "I = np.array(I)\n",
    "\n",
    "\n",
    "# Define the window size\n",
    "window_size = 6\n",
    "\n",
    "# Calculate the moving averages\n",
    "V_avg = np.convolve(V, np.ones(window_size)/window_size, mode='same')\n",
    "I_avg = np.convolve(I, np.ones(window_size)/window_size, mode='same')\n",
    "\n",
    "# Calculate the standard deviations\n",
    "V_std = np.std(V)\n",
    "I_std = np.std(I)\n",
    "\n",
    "# Calculate the z-scores\n",
    "V_z = (V - V_avg) / V_std\n",
    "I_z = (I - I_avg) / I_std\n",
    "\n",
    "# Calculate the change points\n",
    "change_points = []\n",
    "for i in range(len(V_z)):\n",
    "    if abs(V_z[i]) > 3 or abs(I_z[i]) > 0.1:\n",
    "        change_points.append(i)\n",
    "\n",
    "# Mark the change points on the plot\n",
    "for point in change_points:\n",
    "    plt.axvline(V[point], color='r', linestyle='--', alpha=0.5)\n",
    "\n",
    "    \n",
    "# Plot the data again\n",
    "sns.lineplot(x=V, y=I, color = 'orange')  \n",
    "    \n",
    "# Set plot labels and title\n",
    "plt.xlabel('V')\n",
    "plt.ylabel('I')\n",
    "plt.title('Inflection Points Detection')\n",
    "\n",
    "# Show the plot\n",
    "plt.show()"
   ]
  },
  {
   "cell_type": "code",
   "execution_count": 9,
   "id": "05975d96-f651-48b2-9092-5704b0f5936c",
   "metadata": {
    "tags": []
   },
   "outputs": [],
   "source": [
    "#Preview the inflection points array\n",
    "inflection_points = []"
   ]
  },
  {
   "cell_type": "markdown",
   "id": "bc785054-bd2d-4230-86b4-fa6440d296cd",
   "metadata": {},
   "source": [
    "### Clear the graph above to focus on Ic and Vc"
   ]
  },
  {
   "cell_type": "code",
   "execution_count": 10,
   "id": "1311acd9-0417-4089-a690-7627baaf5f39",
   "metadata": {
    "tags": []
   },
   "outputs": [
    {
     "data": {
      "image/png": "[encoded data removed]",
      "text/plain": [
       "<Figure size 900x600 with 1 Axes>"
      ]
     },
     "metadata": {},
     "output_type": "display_data"
    }
   ],
   "source": [
    "#Uncomment the line below to make the graph interactive\n",
    "#%matplotlib widget\n",
    "\n",
    "#Set figure size\n",
    "plt.figure(figsize=(9,6))\n",
    "\n",
    "# Define the window size\n",
    "window_size = 6\n",
    "\n",
    "# Calculate the moving averages\n",
    "V_avg = np.convolve(V, np.ones(window_size)/window_size, mode='same')\n",
    "I_avg = np.convolve(I, np.ones(window_size)/window_size, mode='same')\n",
    "\n",
    "# Calculate the standard deviations\n",
    "V_std = np.std(V)\n",
    "I_std = np.std(I)\n",
    "\n",
    "# Calculate the z-scores\n",
    "V_z = (V - V_avg) / V_std\n",
    "I_z = (I - I_avg) / I_std\n",
    "\n",
    "# Calculate the change points\n",
    "change_points = []\n",
    "for i in range(len(V_z)):\n",
    "    if abs(V_z[i]) > 3 or abs(I_z[i]) > 0.1:\n",
    "        change_points.append(i)\n",
    "\n",
    "# Annotate inflection points on the graph\n",
    "for idx, point in enumerate(change_points):\n",
    "    if idx in [2, 5]:\n",
    "        plt.annotate(f'Inflection Point\\n(V={V[point]:.3f}mV)\\n(I = {np.interp(V[point], V, I):3f}$\\mu A$)', \n",
    "                     xy=(V[point], np.interp(V[point], V, I)),\n",
    "                     xytext=(V[point] - 1.2, np.interp(V[point], V, I) + 3),\n",
    "                     arrowprops={'facecolor': 'red', 'shrink': 0.05})\n",
    "\n",
    "    \n",
    "# Plot the data again\n",
    "sns.lineplot(x=V, y=I, color = 'orange')  \n",
    "    \n",
    "# Set plot labels and title\n",
    "plt.xlabel('V')\n",
    "plt.ylabel('I')\n",
    "plt.title('Inflection Points Detection')\n",
    "\n",
    "# Show the plot\n",
    "plt.show()"
   ]
  },
  {
   "cell_type": "markdown",
   "id": "e85392e7-7fdc-4476-805f-665973b49608",
   "metadata": {},
   "source": [
    "# Estimating the normal state resistance (Rn)"
   ]
  },
  {
   "cell_type": "code",
   "execution_count": 11,
   "id": "59c0fa22-6aaf-4859-b923-3ff6aa7fe6de",
   "metadata": {
    "tags": []
   },
   "outputs": [
    {
     "name": "stdout",
     "output_type": "stream",
     "text": [
      "[-8.015, -7.633, -7.323, -6.984, -6.701, -6.348, -6.016, -5.734, -5.423, -5.127, -4.816, -4.533, -4.265, -3.983, -3.743, -3.397, -3.036, -2.825, -2.81, -2.796, -2.768, -2.768, -2.747, -2.74, -2.726, -2.712, -2.697, -2.669, 0.049, 0.057, 0.057, 0.071, 0.064, 0.064, 1.095, 2.888, 2.895, 2.902, 2.902, 2.916, 2.973, 3.566, 3.792, 4.06, 4.315, 4.604, 4.879, 5.105, 5.437, 5.691, 5.974, 6.228, 6.56, 6.821, 7.146, 7.414, 7.76, 8.092, 8.396, 8.234, 8.022, 7.824, 7.626, 7.429, 7.245, 7.061, 6.849, 6.694, 6.511, 6.334, 6.115, 5.953, 5.762, 5.593, 5.402, 5.247, 5.077, 4.908, 4.738, 4.555, 4.385, 4.258, 4.074, 3.933, 3.721, 3.58, 3.354, 3.001, 2.987, 2.987, 2.973, 2.966, 2.973, 2.959, 2.945, 2.916, 2.916, 2.916, 2.916, 2.902, 2.902, 2.888, 2.86, 2.874, 2.86, 2.832, 0.191, 0.12, 0.12, 0.127, 0.12, 0.106, 0.127, 0.106, 0.12, 0.106, 0.134, -2.69, -2.697, -2.726, -2.726, -2.726, -2.726, -2.726, -2.747, -2.768, -3.107, -3.333, -3.517, -3.672, -3.87, -3.997, -4.194, -4.364, -4.526, -4.71, -4.886, -5.084, -5.275, -5.465, -5.635, -5.797, -6.002, -6.2, -6.369, -6.553, -6.8, -6.984, -7.196, -7.393, -7.591, -7.803, -8.071]\n"
     ]
    }
   ],
   "source": [
    "#Preview the main dataset\n",
    "print(list(df[0]))"
   ]
  },
  {
   "cell_type": "code",
   "execution_count": 12,
   "id": "78ae52f8-aafc-41de-a28e-b7e91c22e3e3",
   "metadata": {
    "tags": []
   },
   "outputs": [
    {
     "name": "stdout",
     "output_type": "stream",
     "text": [
      "39\n",
      "58\n"
     ]
    }
   ],
   "source": [
    "#The dataset includes points from two complete sweeps\n",
    "#Identify the index of the approximate limits of the normal state on the positive side of the graph \n",
    "\n",
    "#Function for detecting the first occurrence of an item in a list\n",
    "def find_first_occurrence(value, list):\n",
    "    for i, item in enumerate(list):\n",
    "        if item == value:\n",
    "            first_occurrence = i\n",
    "            break\n",
    "    return first_occurrence\n",
    "\n",
    "\n",
    "low_limit = find_first_occurrence(2.916, list(df[0])) #the second change point above\n",
    "up_limit = list(df[0]).index(df[0].max())\n",
    "\n",
    "print(low_limit)\n",
    "print(up_limit)"
   ]
  },
  {
   "cell_type": "code",
   "execution_count": 13,
   "id": "b864c5cd-63be-4c90-ba23-6d975b3d44c4",
   "metadata": {
    "tags": []
   },
   "outputs": [
    {
     "name": "stdout",
     "output_type": "stream",
     "text": [
      "[2.916 2.973 3.566 3.792 4.06  4.315 4.604 4.879 5.105 5.437 5.691 5.974\n",
      " 6.228 6.56  6.821 7.146 7.414 7.76  8.092]\n",
      "[21.4687 23.5288 25.5822 27.5605 29.7748 31.9339 33.8624 36.0842 38.4855\n",
      " 40.6739 42.88   45.1346 47.6232 50.0974 52.4714 54.8344 57.147  59.712\n",
      " 61.9904]\n"
     ]
    }
   ],
   "source": [
    "#Select data from the first pass\n",
    "V_n = np.array(df[0][low_limit:up_limit])\n",
    "I_n = np.array(df[1][low_limit:up_limit])\n",
    "\n",
    "#Preview the data\n",
    "print(V_n)\n",
    "print(I_n)"
   ]
  },
  {
   "cell_type": "markdown",
   "id": "85c19d83-70af-4459-979f-865a26a9e202",
   "metadata": {},
   "source": [
    "## Define the model and fit the data"
   ]
  },
  {
   "cell_type": "code",
   "execution_count": 14,
   "id": "14e579a1-d903-42ee-9b29-f3b31a16d046",
   "metadata": {
    "tags": []
   },
   "outputs": [
    {
     "name": "stdout",
     "output_type": "stream",
     "text": [
      "[[Model]]\n",
      "    Model(linear)\n",
      "[[Fit Statistics]]\n",
      "    # fitting method   = leastsq\n",
      "    # function evals   = 7\n",
      "    # data points      = 19\n",
      "    # variables        = 2\n",
      "    chi-square         = 17.0264291\n",
      "    reduced chi-square = 1.00155465\n",
      "    Akaike info crit   = 1.91622837\n",
      "    Bayesian info crit = 3.80510633\n",
      "    R-squared          = 1.00000000\n",
      "[[Variables]]\n",
      "    slope:      7780.17649 +/- 129.220076 (1.66%) (init = 7924.808)\n",
      "    intercept: -1285889.05 +/- 606131.182 (47.14%) (init = -2002573)\n",
      "[[Correlations]] (unreported correlations are < 0.100)\n",
      "    C(slope, intercept) = -0.9530\n"
     ]
    }
   ],
   "source": [
    "#Define the variables and convert to Volts and Amps\n",
    "x = V_n / 0.001\n",
    "y = I_n / 0.000001\n",
    "\n",
    "#Use builtin NameModel, specify prefix for each:\n",
    "mod = LinearModel(prefix='') \n",
    "\n",
    "#Set the initial parameters to 'guess' mode\n",
    "pars  = mod.guess(y, x = x)\n",
    "\n",
    "#Fit with weights=1/yerr\n",
    "result = mod.fit(y, pars, x = x, weights= 1. / (y * 0.02268))\n",
    "\n",
    "#Print the fit results\n",
    "print(result.fit_report())"
   ]
  },
  {
   "cell_type": "markdown",
   "id": "4e2b31af-3b9f-41ff-bab6-429b46e63cd5",
   "metadata": {},
   "source": [
    "## Plot the model"
   ]
  },
  {
   "cell_type": "code",
   "execution_count": 15,
   "id": "b562e985-269d-4d96-9741-543a4bb1a329",
   "metadata": {
    "tags": []
   },
   "outputs": [
    {
     "data": {
      "image/png": "[encoded data removed]",
      "text/plain": [
       "<Figure size 900x600 with 1 Axes>"
      ]
     },
     "metadata": {},
     "output_type": "display_data"
    }
   ],
   "source": [
    "#Set the figure size\n",
    "plt.figure(figsize = (9,6))\n",
    "\n",
    "#Plot the data and the model\n",
    "plt.scatter(x, y, linewidth=2)\n",
    "plt.plot(x, result.best_fit, 'r-', linewidth=2.5)\n",
    "\n",
    "# Set plot labels and title\n",
    "plt.xlabel('V ($V$)')\n",
    "plt.ylabel('I ($A$)')\n",
    "plt.title('Normal State IVC')\n",
    "\n",
    "#Show the plot\n",
    "plt.show()"
   ]
  },
  {
   "cell_type": "markdown",
   "id": "b4bf727c-9b28-4da8-b6c6-4fb66078c772",
   "metadata": {},
   "source": [
    "# Calculating the theoretical Ic and V_gap\n",
    "\n",
    "![](./img/Ic_formula.png)"
   ]
  },
  {
   "cell_type": "code",
   "execution_count": 16,
   "id": "9c3f054f-0b07-4f8f-b3de-a8fdd96668ba",
   "metadata": {
    "tags": []
   },
   "outputs": [
    {
     "data": {
      "text/plain": [
       "{'slope': 7780.176491334838, 'intercept': -1285889.0528711588}"
      ]
     },
     "execution_count": 16,
     "metadata": {},
     "output_type": "execute_result"
    }
   ],
   "source": [
    "#Access the model parameters\n",
    "varys = result.params.valuesdict()\n",
    "\n",
    "varys"
   ]
  },
  {
   "cell_type": "code",
   "execution_count": 17,
   "id": "b00cd57a-cc33-4faf-a5ee-3ae6e148bd15",
   "metadata": {
    "tags": []
   },
   "outputs": [
    {
     "name": "stdout",
     "output_type": "stream",
     "text": [
      "Normal state resistance: R_n =  0.000129 Ohm\n"
     ]
    }
   ],
   "source": [
    "#The slope is equal to 1 / R \n",
    "R_n = 1 / varys.get(\"slope\")\n",
    "\n",
    "print('Normal state resistance: R_n = ', round(R_n, 6), 'Ohm') "
   ]
  },
  {
   "cell_type": "code",
   "execution_count": 18,
   "id": "9447a90f-624a-41a4-9975-06e5b6d0a2b4",
   "metadata": {
    "tags": []
   },
   "outputs": [
    {
     "name": "stdout",
     "output_type": "stream",
     "text": [
      "Temperature = 4.71104859 K\n",
      "-----------------------------\n",
      "-----------------------------\n",
      "Weak Coupling Formula\n",
      "-----------------------------\n",
      "delta_t = 2.7459699929230384e-22 J\n",
      "Gap Energy = 5.491939985846077e-22 J\n",
      "Gap Voltage = 3.427749335817049 mV\n",
      "Josephson Current = 20.339535186213674 uA\n",
      "______________________________\n",
      "______________________________\n",
      "------------------------------\n",
      "Strong Coupling Approximation\n",
      "------------------------------\n",
      "delta_t = 2.1587034431731104e-22 J\n",
      "Gap Energy =  4.317406886346221e-22 J\n",
      "Gap Voltage = 2.6946741270417056 mV\n",
      "Josephson Current = 15.315493021445276 uA\n",
      "________________________________\n",
      "________________________________\n",
      "________________________________\n"
     ]
    }
   ],
   "source": [
    "#Define the terms for the strong and weak coupling formulas \n",
    "t_c = 9.25 #critical temperature\n",
    "delta_0 = 2.25288819E-22 # from 1.764 * k_B * t_c,  [check eqn. 1 on the report paper] \n",
    "t = 4.71104859 #from the calibration curve in notebook 2\n",
    "e = 1.6022E-19 #elementay charge\n",
    "pi = 3.14159265358979323846264338327950 \n",
    "t_red = t / t_c #the reduced temperature\n",
    "k_B = 1.3807E-23 #Boltzmann constant\n",
    "R_n = 1 / varys.get(\"slope\") #from the slope of the IVC\n",
    "\n",
    "\n",
    "#weak coupling formula\n",
    "\n",
    "delta_weak = delta_0 * 1.74 * math.sqrt(1.0 - t_red)\n",
    "\n",
    "E_weak = delta_weak * 2\n",
    "\n",
    "V_weak = (E_weak / e) * 1000\n",
    "\n",
    "#The Ambegaokar-Baratoff formula\n",
    "Ic_weak = (pi / 2) * (delta_weak / (e * R_n)) * math.tanh(delta_weak / (2 * k_B * t))\n",
    "\n",
    "\n",
    "#strong coupling approximation\n",
    "\n",
    "delta_strong = (delta_0) * math.sqrt(math.cos((pi * t_red**2)  / 2 )) \n",
    "\n",
    "E_strong = delta_strong * 2\n",
    "\n",
    "V_strong = (E_strong / e) * 1000\n",
    "\n",
    "#The Ambegaokar-Baratoff formula\n",
    "Ic_strong = (pi / 2) * (delta_strong / (e * R_n)) * math.tanh(delta_strong / (2 * k_B * t))\n",
    "\n",
    "\n",
    "#Print the results\n",
    "print('Temperature =', t, 'K')\n",
    "print('-----------------------------')\n",
    "print('-----------------------------')\n",
    "                         \n",
    "print('Weak Coupling Formula')\n",
    "print('-----------------------------')\n",
    "\n",
    "\n",
    "print('delta_t =', delta_weak, 'J')\n",
    "print('Gap Energy =', E_weak, 'J')\n",
    "print('Gap Voltage =', V_weak, 'mV')\n",
    "print('Josephson Current =', Ic_weak, 'uA')\n",
    "print('______________________________')\n",
    "print('______________________________')\n",
    "print('------------------------------')\n",
    "print('Strong Coupling Approximation')\n",
    "print('------------------------------')\n",
    "\n",
    "print('delta_t =', delta_strong, 'J')\n",
    "print('Gap Energy = ', E_strong, 'J')\n",
    "print('Gap Voltage =', V_strong, 'mV')\n",
    "print('Josephson Current =', Ic_strong, 'uA')\n",
    "print('________________________________')\n",
    "print('________________________________')\n",
    "print('________________________________')"
   ]
  },
  {
   "cell_type": "code",
   "execution_count": 19,
   "id": "ef1804d8-51d9-4eea-ac5c-b806b800994a",
   "metadata": {},
   "outputs": [
    {
     "name": "stdout",
     "output_type": "stream",
     "text": [
      "{'Ic': 21.4687, 'Ic_weak': 20.3395, 'Ic_strong': 15.3155, 'V_gap': 2.888, 'Vg_weak': 3.4277, 'Vg_strong': 2.6947, 'Temp': 4.711}\n"
     ]
    }
   ],
   "source": [
    "#Add all the collected results to a dictionary\n",
    "Josephson_data = {\"Ic\" : np.interp(V[6], V, I) , \"Ic_weak\" : round(Ic_weak, 4), \"Ic_strong\" : round(Ic_strong, 4), \"V_gap\" : V[2], \"Vg_weak\" : round(V_weak, 4), \"Vg_strong\" : round(V_strong, 4), \"Temp\" : round(t, 4)}\n",
    "\n",
    "#Preview the newly created row of data\n",
    "print(Josephson_data)"
   ]
  },
  {
   "cell_type": "markdown",
   "id": "c29b131a-d29f-4f75-ba01-4e28fbbc0548",
   "metadata": {},
   "source": [
    "## Export the results to a csv file"
   ]
  },
  {
   "cell_type": "code",
   "execution_count": 20,
   "id": "565be433-d8b5-44ea-a793-bbf072ae75c6",
   "metadata": {},
   "outputs": [],
   "source": [
    "# import csv\n",
    "\n",
    "# with open(r'./Data/Josephson_data.csv', 'a', newline='') as csvfile:\n",
    "#     fieldnames = ['Ic','Ic_weak', 'Ic_strong', 'V_gap', 'Vg_weak', 'Vg_strong', 'Temp']\n",
    "#     writer = csv.DictWriter(csvfile, fieldnames=fieldnames)\n",
    "\n",
    "#     writer.writerow(Josephson_data)"
   ]
  },
  {
   "cell_type": "markdown",
   "id": "55f9e1ba-ea28-4854-8b64-a7ac34c3ddf8",
   "metadata": {},
   "source": [
    "## Author\n",
    "** **\n",
    "\n",
    "### <a href=\"https://www.linkedin.com/in/alin-airinei/\">Alin Airinei</a>"
   ]
  }
 ],
 "metadata": {
  "kernelspec": {
   "display_name": "Python 3 (ipykernel)",
   "language": "python",
   "name": "python3"
  },
  "language_info": {
   "codemirror_mode": {
    "name": "ipython",
    "version": 3
   },
   "file_extension": ".py",
   "mimetype": "text/x-python",
   "name": "python",
   "nbconvert_exporter": "python",
   "pygments_lexer": "ipython3",
   "version": "3.11.4"
  },
  "widgets": {
   "application/vnd.jupyter.widget-state+json": {
    "state": {},
    "version_major": 2,
    "version_minor": 0
   }
  }
 },
 "nbformat": 4,
 "nbformat_minor": 5
}
