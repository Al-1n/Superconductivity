{
 "cells": [
  {
   "cell_type": "markdown",
   "id": "d8a8a37e-f395-405f-a07d-0349694b422d",
   "metadata": {},
   "source": [
    "# Measuring the Josephson Current, the gap voltage and the normal state resistance at 1045ohm \n",
    "** **\n",
    " * This project uses the lmfit package. Lmfit provides curve fiting using non-linear least squares minimization and was developed by Matt Newville: https://github.com/newville."
   ]
  },
  {
   "cell_type": "markdown",
   "id": "99bc9cd0-0ca7-4229-bb2d-1414a58bec04",
   "metadata": {},
   "source": [
    "## Install and import libraries"
   ]
  },
  {
   "cell_type": "code",
   "execution_count": 1,
   "id": "fe638614-0386-4845-b482-4cf89c0a7ec4",
   "metadata": {},
   "outputs": [],
   "source": [
    "#uncomment the following line to install lmfit\n",
    "#!pip install lmfit"
   ]
  },
  {
   "cell_type": "code",
   "execution_count": 2,
   "id": "04360f36-197c-420b-8d71-f2df94a17d09",
   "metadata": {
    "tags": []
   },
   "outputs": [],
   "source": [
    "import pandas as pd\n",
    "import numpy as np\n",
    "import seaborn as sns\n",
    "import matplotlib.pyplot as plt\n",
    "from lmfit.models import LinearModel\n",
    "import math"
   ]
  },
  {
   "cell_type": "markdown",
   "id": "0754b065-979d-4761-ae32-c4f0e97c6630",
   "metadata": {},
   "source": [
    "## Data"
   ]
  },
  {
   "cell_type": "code",
   "execution_count": 3,
   "id": "b466b556-6609-46cb-ace8-4d4f8e8be730",
   "metadata": {
    "tags": []
   },
   "outputs": [
    {
     "data": {
      "text/html": [
       "<div>\n",
       "<style scoped>\n",
       "    .dataframe tbody tr th:only-of-type {\n",
       "        vertical-align: middle;\n",
       "    }\n",
       "\n",
       "    .dataframe tbody tr th {\n",
       "        vertical-align: top;\n",
       "    }\n",
       "\n",
       "    .dataframe thead th {\n",
       "        text-align: right;\n",
       "    }\n",
       "</style>\n",
       "<table border=\"1\" class=\"dataframe\">\n",
       "  <thead>\n",
       "    <tr style=\"text-align: right;\">\n",
       "      <th></th>\n",
       "      <th>0</th>\n",
       "      <th>1</th>\n",
       "      <th>2</th>\n",
       "    </tr>\n",
       "  </thead>\n",
       "  <tbody>\n",
       "    <tr>\n",
       "      <th>0</th>\n",
       "      <td>-8.064</td>\n",
       "      <td>-62.6071</td>\n",
       "      <td>0.00317</td>\n",
       "    </tr>\n",
       "    <tr>\n",
       "      <th>1</th>\n",
       "      <td>-7.753</td>\n",
       "      <td>-59.9378</td>\n",
       "      <td>0.00303</td>\n",
       "    </tr>\n",
       "    <tr>\n",
       "      <th>2</th>\n",
       "      <td>-7.372</td>\n",
       "      <td>-57.4151</td>\n",
       "      <td>0.00291</td>\n",
       "    </tr>\n",
       "    <tr>\n",
       "      <th>3</th>\n",
       "      <td>-7.047</td>\n",
       "      <td>-54.7171</td>\n",
       "      <td>0.00277</td>\n",
       "    </tr>\n",
       "    <tr>\n",
       "      <th>4</th>\n",
       "      <td>-6.708</td>\n",
       "      <td>-52.2190</td>\n",
       "      <td>0.00265</td>\n",
       "    </tr>\n",
       "  </tbody>\n",
       "</table>\n",
       "</div>"
      ],
      "text/plain": [
       "       0        1        2\n",
       "0 -8.064 -62.6071  0.00317\n",
       "1 -7.753 -59.9378  0.00303\n",
       "2 -7.372 -57.4151  0.00291\n",
       "3 -7.047 -54.7171  0.00277\n",
       "4 -6.708 -52.2190  0.00265"
      ]
     },
     "execution_count": 3,
     "metadata": {},
     "output_type": "execute_result"
    }
   ],
   "source": [
    "#Load the data\n",
    "df = pd.read_csv(\"./Data/1045_one_pass.csv\", sep = \" \", header = None)\n",
    "\n",
    "#Preview the data\n",
    "df.head()"
   ]
  },
  {
   "cell_type": "markdown",
   "id": "69f59ccf-9d58-428a-aba2-80e58fb89e31",
   "metadata": {},
   "source": [
    "## Data wrangling"
   ]
  },
  {
   "cell_type": "code",
   "execution_count": 4,
   "id": "e0e46b58-f661-4940-a460-22838f6fb379",
   "metadata": {
    "tags": []
   },
   "outputs": [
    {
     "name": "stdout",
     "output_type": "stream",
     "text": [
      "V =  [-8.064, -7.753, -7.372, -7.047, -6.708, -6.383, -6.115, -5.769, -5.465, -5.155, -4.872, -4.562, -4.315, -4.004, -3.764, -3.453, -3.156, -2.817, -2.775, -2.761, -2.747, -2.733, -2.719, -2.719, -2.69, -2.69, -2.676, -2.62, 0.049, 0.028, 0.049, 0.049, 0.042, 0.057, 0.035, 2.825, 2.832, 2.846, 2.867, 2.881, 3.093, 3.517, 3.743, 3.983, 4.279, 4.519, 4.802, 5.042, 5.338, 5.593, 5.854, 6.2, 6.468, 6.715, 7.068, 7.393, 7.647, 7.972, 8.269, 8.071, 7.859, 7.662, 7.492, 7.252, 7.111, 6.927, 6.701, 6.532, 6.369, 6.179, 5.981, 5.797, 5.586, 5.437, 5.247, 5.091, 4.922, 4.745, 4.583, 4.42, 4.251, 4.096, 3.926, 3.743, 3.587, 3.404, 3.022, 2.952, 2.952, 2.923, 2.923, 2.923, 2.902, 2.909, 2.895, 2.881, 2.881, 2.867, 2.867, 2.846, 2.853, 2.839, 2.825, 2.839, 2.789, 0.113, 0.12, 0.12, 0.12, 0.113, 0.127, 0.12, 0.113, 0.127, 0.113, -2.662, -2.662, -2.676, -2.676, -2.676, -2.69, -2.69, -2.719, -2.719, -2.747, -3.156, -3.312, -3.481, -3.665, -3.834, -4.025, -4.202, -4.371]\n",
      "I =  [-62.6071, -59.9378, -57.4151, -54.7171, -52.219, -49.508, -46.7868, -44.2594, -42.1167, -39.5756, -37.3094, -34.7854, -32.5799, -30.1466, -27.8497, -25.4041, -23.5097, -21.1017, -19.3144, -16.9418, -15.1095, -12.8938, -11.2006, -9.09, -7.2788, -5.3632, -3.5603, -1.4524, 0.0744, 1.9585, 3.7588, 5.6095, 7.4473, 9.414, 11.3336, 13.108, 14.9526, 17.0346, 18.8771, 21.1706, 22.9033, 25.1647, 27.3401, 29.3689, 31.309, 33.3828, 35.647, 37.9704, 40.0286, 42.2449, 44.8051, 46.8141, 49.1096, 51.7265, 53.9831, 56.4587, 59.1703, 61.326, 63.0246, 61.5559, 59.744, 58.3947, 56.7841, 55.3099, 53.5581, 52.2422, 50.7257, 49.2249, 47.8306, 46.2561, 44.7731, 43.3385, 41.8036, 40.4658, 38.847, 37.6689, 36.0433, 34.8904, 33.286, 32.1208, 30.5866, 29.3826, 28.1199, 26.7964, 25.4478, 24.2001, 22.7321, 21.6256, 20.2721, 19.0893, 17.6806, 16.66, 15.4703, 14.2738, 13.0159, 11.8466, 10.6992, 9.5409, 8.5197, 7.2413, 6.1089, 5.0877, 3.9068, 2.872, 1.7041, 0.6665, -0.5396, -1.6208, -2.8215, -3.8809, -5.0488, -6.3565, -7.4739, -8.5633, -9.7189, -11.0171, -12.0752, -13.3788, -14.5808, -16.087, -17.2726, -18.6158, -19.8137, -21.2156, -22.3582, -23.7499, -25.0242, -26.4601, -27.9166, -29.3867, -30.6323, -32.2115, -33.5902]\n"
     ]
    }
   ],
   "source": [
    "#Ascribe the columns to the V and I varibles \n",
    "V = list(df[0])\n",
    "I = list(df[1])\n",
    "\n",
    "#Preview the data\n",
    "print(\"V = \", V)\n",
    "print(\"I = \", I )"
   ]
  },
  {
   "cell_type": "code",
   "execution_count": 5,
   "id": "916e74e8-0298-4365-b57c-a2e61a62c345",
   "metadata": {
    "tags": []
   },
   "outputs": [
    {
     "name": "stdout",
     "output_type": "stream",
     "text": [
      "34\n",
      "49\n"
     ]
    }
   ],
   "source": [
    "lower_limit = V.index(0.035)\n",
    "upper_limit = V.index(5.593)\n",
    "\n",
    "print(lower_limit)\n",
    "print(upper_limit)"
   ]
  },
  {
   "cell_type": "code",
   "execution_count": 6,
   "id": "d68cd360-3b84-4be3-968d-8d77562286e7",
   "metadata": {
    "tags": []
   },
   "outputs": [
    {
     "name": "stdout",
     "output_type": "stream",
     "text": [
      "V =  [0.035 2.825 2.832 2.846 2.867 2.881 3.093 3.517 3.743 3.983 4.279 4.519\n",
      " 4.802 5.042 5.338]\n",
      "I =  [11.3336 13.108  14.9526 17.0346 18.8771 21.1706 22.9033 25.1647 27.3401\n",
      " 29.3689 31.309  33.3828 35.647  37.9704 40.0286]\n"
     ]
    }
   ],
   "source": [
    "#Remove the data above the chosen upper limit to enhance the view and focus on the single forward pass\n",
    "V = np.array(V[lower_limit:upper_limit])\n",
    "\n",
    "I = np.array(I[lower_limit:upper_limit])\n",
    "\n",
    "#Preview the new subsets\n",
    "print(\"V = \", V)\n",
    "print(\"I = \", I)"
   ]
  },
  {
   "cell_type": "code",
   "execution_count": 7,
   "id": "aede1c1b-543e-4e7f-bd18-2cac0aa30847",
   "metadata": {
    "tags": []
   },
   "outputs": [
    {
     "data": {
      "text/plain": [
       "<seaborn.axisgrid.FacetGrid at 0x7effc9a5cc50>"
      ]
     },
     "execution_count": 7,
     "metadata": {},
     "output_type": "execute_result"
    },
    {
     "data": {
      "image/png": "[encoded data removed]",
      "text/plain": [
       "<Figure size 500x500 with 1 Axes>"
      ]
     },
     "metadata": {},
     "output_type": "display_data"
    }
   ],
   "source": [
    "#Uncomment the line below to make the graph interactive\n",
    "#%matplotlib widget\n",
    "\n",
    "#Preview the data\n",
    "sns.relplot(x = V, y = I, kind = \"line\")"
   ]
  },
  {
   "cell_type": "code",
   "execution_count": 8,
   "id": "6909a570-bf72-4f1b-b00d-4e955bfc4a82",
   "metadata": {
    "tags": []
   },
   "outputs": [
    {
     "data": {
      "image/png": "[encoded data removed]",
      "text/plain": [
       "<Figure size 900x600 with 1 Axes>"
      ]
     },
     "metadata": {},
     "output_type": "display_data"
    }
   ],
   "source": [
    "#Uncomment the line below to make the graph interactive\n",
    "#%matplotlib widget\n",
    "\n",
    "#Set figure size\n",
    "plt.figure(figsize=(9,6))\n",
    "\n",
    "# Define the data\n",
    "V = np.array(V)\n",
    "I = np.array(I)\n",
    "\n",
    "\n",
    "# Define the window size\n",
    "window_size = 6\n",
    "\n",
    "# Calculate the moving averages\n",
    "V_avg = np.convolve(V, np.ones(window_size)/window_size, mode='same')\n",
    "I_avg = np.convolve(I, np.ones(window_size)/window_size, mode='same')\n",
    "\n",
    "# Calculate the standard deviations\n",
    "V_std = np.std(V)\n",
    "I_std = np.std(I)\n",
    "\n",
    "# Calculate the z-scores\n",
    "V_z = (V - V_avg) / V_std\n",
    "I_z = (I - I_avg) / I_std\n",
    "\n",
    "# Calculate the change points\n",
    "change_points = []\n",
    "for i in range(len(V_z)):\n",
    "    if abs(V_z[i]) > 3 or abs(I_z[i]) > 0.1:\n",
    "        change_points.append(i)\n",
    "\n",
    "# Mark the change points on the plot\n",
    "for point in change_points:\n",
    "    plt.axvline(V[point], color='r', linestyle='--', alpha=0.5)\n",
    "\n",
    "    \n",
    "# Plot the data again\n",
    "sns.lineplot(x=V, y=I, color = 'orange')  \n",
    "    \n",
    "# Set plot labels and title\n",
    "plt.xlabel('V')\n",
    "plt.ylabel('I')\n",
    "plt.title('Inflection Points Detection')\n",
    "\n",
    "# Show the plot\n",
    "plt.show()"
   ]
  },
  {
   "cell_type": "markdown",
   "id": "bc785054-bd2d-4230-86b4-fa6440d296cd",
   "metadata": {},
   "source": [
    "### Clear the graph above to focus on Ic and Vc"
   ]
  },
  {
   "cell_type": "code",
   "execution_count": 9,
   "id": "1311acd9-0417-4089-a690-7627baaf5f39",
   "metadata": {
    "tags": []
   },
   "outputs": [
    {
     "data": {
      "image/png": "[encoded data removed]",
      "text/plain": [
       "<Figure size 900x600 with 1 Axes>"
      ]
     },
     "metadata": {},
     "output_type": "display_data"
    }
   ],
   "source": [
    "#Uncomment the line below to make the graph interactive\n",
    "#%matplotlib widget\n",
    "\n",
    "#Set figure size\n",
    "plt.figure(figsize=(9,6))\n",
    "\n",
    "# Define the window size\n",
    "window_size = 6\n",
    "\n",
    "# Calculate the moving averages\n",
    "V_avg = np.convolve(V, np.ones(window_size)/window_size, mode='same')\n",
    "I_avg = np.convolve(I, np.ones(window_size)/window_size, mode='same')\n",
    "\n",
    "# Calculate the standard deviations\n",
    "V_std = np.std(V)\n",
    "I_std = np.std(I)\n",
    "\n",
    "# Calculate the z-scores\n",
    "V_z = (V - V_avg) / V_std\n",
    "I_z = (I - I_avg) / I_std\n",
    "\n",
    "# Calculate the change points\n",
    "change_points = []\n",
    "for i in range(len(V_z)):\n",
    "    if abs(V_z[i]) > 3 or abs(I_z[i]) > 0.1:\n",
    "        change_points.append(i)\n",
    "\n",
    "# Annotate inflection points on the graph\n",
    "for idx, point in enumerate(change_points):\n",
    "    if idx in [1, 4]:\n",
    "        plt.annotate(f'Inflection Point\\n(V={V[point]:.3f}mV)\\n(I = {np.interp(V[point], V, I):3f}$\\mu A$)', \n",
    "                     xy=(V[point], np.interp(V[point], V, I)),\n",
    "                     xytext=(V[point] - 1.2, np.interp(V[point], V, I) + 3),\n",
    "                     arrowprops={'facecolor': 'red', 'shrink': 0.05})\n",
    "\n",
    "    \n",
    "# Plot the data again\n",
    "sns.lineplot(x=V, y=I, color = 'orange')  \n",
    "    \n",
    "# Set plot labels and title\n",
    "plt.xlabel('V')\n",
    "plt.ylabel('I')\n",
    "plt.title('Inflection Points Detection')\n",
    "\n",
    "# Show the plot\n",
    "plt.show()"
   ]
  },
  {
   "cell_type": "markdown",
   "id": "e85392e7-7fdc-4476-805f-665973b49608",
   "metadata": {},
   "source": [
    "# Estimating the normal state resistance (Rn)"
   ]
  },
  {
   "cell_type": "code",
   "execution_count": 10,
   "id": "59c0fa22-6aaf-4859-b923-3ff6aa7fe6de",
   "metadata": {
    "tags": []
   },
   "outputs": [
    {
     "name": "stdout",
     "output_type": "stream",
     "text": [
      "[-8.064, -7.753, -7.372, -7.047, -6.708, -6.383, -6.115, -5.769, -5.465, -5.155, -4.872, -4.562, -4.315, -4.004, -3.764, -3.453, -3.156, -2.817, -2.775, -2.761, -2.747, -2.733, -2.719, -2.719, -2.69, -2.69, -2.676, -2.62, 0.049, 0.028, 0.049, 0.049, 0.042, 0.057, 0.035, 2.825, 2.832, 2.846, 2.867, 2.881, 3.093, 3.517, 3.743, 3.983, 4.279, 4.519, 4.802, 5.042, 5.338, 5.593, 5.854, 6.2, 6.468, 6.715, 7.068, 7.393, 7.647, 7.972, 8.269, 8.071, 7.859, 7.662, 7.492, 7.252, 7.111, 6.927, 6.701, 6.532, 6.369, 6.179, 5.981, 5.797, 5.586, 5.437, 5.247, 5.091, 4.922, 4.745, 4.583, 4.42, 4.251, 4.096, 3.926, 3.743, 3.587, 3.404, 3.022, 2.952, 2.952, 2.923, 2.923, 2.923, 2.902, 2.909, 2.895, 2.881, 2.881, 2.867, 2.867, 2.846, 2.853, 2.839, 2.825, 2.839, 2.789, 0.113, 0.12, 0.12, 0.12, 0.113, 0.127, 0.12, 0.113, 0.127, 0.113, -2.662, -2.662, -2.676, -2.676, -2.676, -2.69, -2.69, -2.719, -2.719, -2.747, -3.156, -3.312, -3.481, -3.665, -3.834, -4.025, -4.202, -4.371]\n"
     ]
    }
   ],
   "source": [
    "#Preview the main dataset\n",
    "print(list(df[0]))"
   ]
  },
  {
   "cell_type": "code",
   "execution_count": 11,
   "id": "78ae52f8-aafc-41de-a28e-b7e91c22e3e3",
   "metadata": {
    "tags": []
   },
   "outputs": [
    {
     "name": "stdout",
     "output_type": "stream",
     "text": [
      "39\n",
      "58\n"
     ]
    }
   ],
   "source": [
    "#The dataset includes points from two complete sweeps\n",
    "#Identify the index of the approximate limits of the normal state on the positive side of the graph \n",
    "\n",
    "#Function for detecting the first occurrence of an item in a list\n",
    "def find_first_occurrence(value, list):\n",
    "    for i, item in enumerate(list):\n",
    "        if item == value:\n",
    "            first_occurrence = i\n",
    "            break\n",
    "    return first_occurrence\n",
    "\n",
    "low_limit = find_first_occurrence(2.881, list(df[0])) #the second change point above \n",
    "up_limit = list(df[0]).index(df[0].max()) \n",
    "\n",
    "print(low_limit) \n",
    "print(up_limit)"
   ]
  },
  {
   "cell_type": "code",
   "execution_count": 12,
   "id": "b864c5cd-63be-4c90-ba23-6d975b3d44c4",
   "metadata": {
    "tags": []
   },
   "outputs": [
    {
     "name": "stdout",
     "output_type": "stream",
     "text": [
      "[2.881 3.093 3.517 3.743 3.983 4.279 4.519 4.802 5.042 5.338 5.593 5.854\n",
      " 6.2   6.468 6.715 7.068 7.393 7.647 7.972]\n",
      "[21.1706 22.9033 25.1647 27.3401 29.3689 31.309  33.3828 35.647  37.9704\n",
      " 40.0286 42.2449 44.8051 46.8141 49.1096 51.7265 53.9831 56.4587 59.1703\n",
      " 61.326 ]\n"
     ]
    }
   ],
   "source": [
    "#Select data from the first pass\n",
    "V_n = np.array(df[0][low_limit:up_limit])\n",
    "I_n = np.array(df[1][low_limit:up_limit])\n",
    "\n",
    "#Preview the data\n",
    "print(V_n)\n",
    "print(I_n)"
   ]
  },
  {
   "cell_type": "markdown",
   "id": "85c19d83-70af-4459-979f-865a26a9e202",
   "metadata": {},
   "source": [
    "## Define the model and fit the data"
   ]
  },
  {
   "cell_type": "code",
   "execution_count": 13,
   "id": "14e579a1-d903-42ee-9b29-f3b31a16d046",
   "metadata": {
    "tags": []
   },
   "outputs": [
    {
     "name": "stdout",
     "output_type": "stream",
     "text": [
      "[[Model]]\n",
      "    Model(linear)\n",
      "[[Fit Statistics]]\n",
      "    # fitting method   = leastsq\n",
      "    # function evals   = 7\n",
      "    # data points      = 19\n",
      "    # variables        = 2\n",
      "    chi-square         = 17.0075020\n",
      "    reduced chi-square = 1.00044129\n",
      "    Akaike info crit   = 1.89509568\n",
      "    Bayesian info crit = 3.78397364\n",
      "    R-squared          = 1.00000000\n",
      "[[Variables]]\n",
      "    slope:      7919.40335 +/- 69.0573214 (0.87%) (init = 8002.02)\n",
      "    intercept: -2068457.07 +/- 320038.566 (15.47%) (init = -2480978)\n",
      "[[Correlations]] (unreported correlations are < 0.100)\n",
      "    C(slope, intercept) = -0.9544\n"
     ]
    }
   ],
   "source": [
    "#Define the variables and convert to Volts and Amps\n",
    "x = V_n / 0.001\n",
    "y = I_n / 0.000001\n",
    "\n",
    "#Use builtin NameModel, specify prefix for each:\n",
    "mod = LinearModel(prefix='') \n",
    "\n",
    "#Set the initial parameters to 'guess' mode\n",
    "pars  = mod.guess(y, x = x)\n",
    "\n",
    "#Fit with weights=1/yerr\n",
    "result = mod.fit(y, pars, x = x, weights= 1. / (y * 0.01199))\n",
    "\n",
    "#Print the fit results\n",
    "print(result.fit_report())"
   ]
  },
  {
   "cell_type": "markdown",
   "id": "4e2b31af-3b9f-41ff-bab6-429b46e63cd5",
   "metadata": {},
   "source": [
    "## Plot the model"
   ]
  },
  {
   "cell_type": "code",
   "execution_count": 14,
   "id": "b562e985-269d-4d96-9741-543a4bb1a329",
   "metadata": {
    "tags": []
   },
   "outputs": [
    {
     "data": {
      "image/png": "[encoded data removed]",
      "text/plain": [
       "<Figure size 900x600 with 1 Axes>"
      ]
     },
     "metadata": {},
     "output_type": "display_data"
    }
   ],
   "source": [
    "#Set the figure size\n",
    "plt.figure(figsize = (9,6))\n",
    "\n",
    "#Plot the data and the model\n",
    "plt.scatter(x, y, linewidth=2)\n",
    "plt.plot(x, result.best_fit, 'r-', linewidth=2.5)\n",
    "\n",
    "# Set plot labels and title\n",
    "plt.xlabel('V ($V$)')\n",
    "plt.ylabel('I ($A$)')\n",
    "plt.title('Normal State IVC')\n",
    "\n",
    "#Show the plot\n",
    "plt.show()"
   ]
  },
  {
   "cell_type": "markdown",
   "id": "b4bf727c-9b28-4da8-b6c6-4fb66078c772",
   "metadata": {},
   "source": [
    "# Calculating the theoretical Ic and V_gap\n",
    "\n",
    "![](./img/Ic_formula.png)"
   ]
  },
  {
   "cell_type": "code",
   "execution_count": 15,
   "id": "9c3f054f-0b07-4f8f-b3de-a8fdd96668ba",
   "metadata": {
    "tags": []
   },
   "outputs": [
    {
     "data": {
      "text/plain": [
       "{'slope': 7919.403350144455, 'intercept': -2068457.0651275315}"
      ]
     },
     "execution_count": 15,
     "metadata": {},
     "output_type": "execute_result"
    }
   ],
   "source": [
    "#Access the model parameters\n",
    "varys = result.params.valuesdict()\n",
    "\n",
    "varys"
   ]
  },
  {
   "cell_type": "code",
   "execution_count": 16,
   "id": "b00cd57a-cc33-4faf-a5ee-3ae6e148bd15",
   "metadata": {
    "tags": []
   },
   "outputs": [
    {
     "name": "stdout",
     "output_type": "stream",
     "text": [
      "Normal state resistance: R_n =  0.000126 Ohm\n"
     ]
    }
   ],
   "source": [
    "#The slope is equal to 1 / R \n",
    "R_n = 1 / varys.get(\"slope\")\n",
    "\n",
    "print('Normal state resistance: R_n = ', round(R_n, 6), 'Ohm') "
   ]
  },
  {
   "cell_type": "code",
   "execution_count": 17,
   "id": "9447a90f-624a-41a4-9975-06e5b6d0a2b4",
   "metadata": {
    "tags": []
   },
   "outputs": [
    {
     "name": "stdout",
     "output_type": "stream",
     "text": [
      "Temperature = 4.9537418 K\n",
      "-----------------------------\n",
      "-----------------------------\n",
      "Weak Coupling Formula\n",
      "-----------------------------\n",
      "delta_t = 2.6715493885147167e-22 J\n",
      "Gap Energy = 5.343098777029433e-22 J\n",
      "Gap Voltage = 3.3348513150851535 mV\n",
      "Josephson Current = 19.924134491091767 uA\n",
      "______________________________\n",
      "______________________________\n",
      "------------------------------\n",
      "Strong Coupling Approximation\n",
      "------------------------------\n",
      "delta_t = 2.1375454149751425e-22 J\n",
      "Gap Energy =  4.275090829950285e-22 J\n",
      "Gap Voltage = 2.6682629072214983 mV\n",
      "Josephson Current = 15.19960216449109 uA\n",
      "________________________________\n",
      "________________________________\n",
      "________________________________\n"
     ]
    }
   ],
   "source": [
    "#Define the terms for the strong and weak coupling formulas \n",
    "t_c = 9.25 #critical temperature\n",
    "delta_0 = 2.25288819E-22 # from 1.764 * k_B * t_c,  [check eqn. 1 on the report paper] \n",
    "t = 4.9537418 #from the calibration curve in notebook 2\n",
    "e = 1.6022E-19 #elementay charge\n",
    "pi = 3.14159265358979323846264338327950 \n",
    "t_red = t / t_c #the reduced temperature\n",
    "k_B = 1.3807E-23 #Boltzmann constant\n",
    "R_n = 1 / varys.get(\"slope\") #from the slope of the IVC\n",
    "\n",
    "\n",
    "#weak coupling formula\n",
    "\n",
    "delta_weak = delta_0 * 1.74 * math.sqrt(1.0 - t_red)\n",
    "\n",
    "E_weak = delta_weak * 2\n",
    "\n",
    "V_weak = (E_weak / e) * 1000\n",
    "\n",
    "#The Ambegaokar-Baratoff formula\n",
    "Ic_weak = (pi / 2) * (delta_weak / (e * R_n)) * math.tanh(delta_weak / (2 * k_B * t))\n",
    "\n",
    "\n",
    "#strong coupling approximation\n",
    "\n",
    "delta_strong = (delta_0) * math.sqrt(math.cos((pi * t_red**2)  / 2 )) \n",
    "\n",
    "E_strong = delta_strong * 2\n",
    "\n",
    "V_strong = (E_strong / e) * 1000\n",
    "\n",
    "#The Ambegaokar-Baratoff formula\n",
    "Ic_strong = (pi / 2) * (delta_strong / (e * R_n)) * math.tanh(delta_strong / (2 * k_B * t))\n",
    "\n",
    "\n",
    "#Print the results\n",
    "print('Temperature =', t, 'K')\n",
    "print('-----------------------------')\n",
    "print('-----------------------------')\n",
    "                         \n",
    "print('Weak Coupling Formula')\n",
    "print('-----------------------------')\n",
    "\n",
    "\n",
    "print('delta_t =', delta_weak, 'J')\n",
    "print('Gap Energy =', E_weak, 'J')\n",
    "print('Gap Voltage =', V_weak, 'mV')\n",
    "print('Josephson Current =', Ic_weak, 'uA')\n",
    "print('______________________________')\n",
    "print('______________________________')\n",
    "print('------------------------------')\n",
    "print('Strong Coupling Approximation')\n",
    "print('------------------------------')\n",
    "\n",
    "print('delta_t =', delta_strong, 'J')\n",
    "print('Gap Energy = ', E_strong, 'J')\n",
    "print('Gap Voltage =', V_strong, 'mV')\n",
    "print('Josephson Current =', Ic_strong, 'uA')\n",
    "print('________________________________')\n",
    "print('________________________________')\n",
    "print('________________________________')"
   ]
  },
  {
   "cell_type": "code",
   "execution_count": 18,
   "id": "ef1804d8-51d9-4eea-ac5c-b806b800994a",
   "metadata": {},
   "outputs": [
    {
     "name": "stdout",
     "output_type": "stream",
     "text": [
      "{'Ic': 21.1706, 'Ic_weak': 19.9241, 'Ic_strong': 15.1996, 'V_gap': 2.825, 'Vg_weak': 3.3349, 'Vg_strong': 2.6683, 'Temp': 4.9537}\n"
     ]
    }
   ],
   "source": [
    "#Add all the collected results to a dictionary\n",
    "Josephson_data = {\"Ic\" : np.interp(V[5], V, I) , \"Ic_weak\" : round(Ic_weak, 4), \"Ic_strong\" : round(Ic_strong, 4), \"V_gap\" : V[1], \"Vg_weak\" : round(V_weak, 4), \"Vg_strong\" : round(V_strong, 4), \"Temp\" : round(t, 4)}\n",
    "\n",
    "#Preview the newly created row of data\n",
    "print(Josephson_data)"
   ]
  },
  {
   "cell_type": "markdown",
   "id": "c29b131a-d29f-4f75-ba01-4e28fbbc0548",
   "metadata": {},
   "source": [
    "## Export the results to a csv file"
   ]
  },
  {
   "cell_type": "code",
   "execution_count": 19,
   "id": "565be433-d8b5-44ea-a793-bbf072ae75c6",
   "metadata": {},
   "outputs": [],
   "source": [
    "# import csv\n",
    "\n",
    "# with open(r'./Data/Josephson_data.csv', 'a', newline='') as csvfile:\n",
    "#     fieldnames = ['Ic','Ic_weak', 'Ic_strong', 'V_gap', 'Vg_weak', 'Vg_strong', 'Temp']\n",
    "#     writer = csv.DictWriter(csvfile, fieldnames=fieldnames)\n",
    "\n",
    "#     writer.writerow(Josephson_data)"
   ]
  },
  {
   "cell_type": "markdown",
   "id": "55f9e1ba-ea28-4854-8b64-a7ac34c3ddf8",
   "metadata": {},
   "source": [
    "## Author\n",
    "** **\n",
    "\n",
    "### <a href=\"https://www.linkedin.com/in/alin-airinei/\">Alin Airinei</a>"
   ]
  }
 ],
 "metadata": {
  "kernelspec": {
   "display_name": "Python 3 (ipykernel)",
   "language": "python",
   "name": "python3"
  },
  "language_info": {
   "codemirror_mode": {
    "name": "ipython",
    "version": 3
   },
   "file_extension": ".py",
   "mimetype": "text/x-python",
   "name": "python",
   "nbconvert_exporter": "python",
   "pygments_lexer": "ipython3",
   "version": "3.11.4"
  },
  "widgets": {
   "application/vnd.jupyter.widget-state+json": {
    "state": {},
    "version_major": 2,
    "version_minor": 0
   }
  }
 },
 "nbformat": 4,
 "nbformat_minor": 5
}
