{
 "cells": [
  {
   "cell_type": "markdown",
   "id": "d6b2b4cd-78cb-4a23-8c4e-5975a140cc44",
   "metadata": {},
   "source": [
    "** ** \n",
    "\n",
    "<figure>\n",
    "<div style=\"text-align:center\"><img src=\"./img/temp_circ.png\" /></div>\n",
    "<p><center>Detail of the experimental setup.</center></p>\n",
    "</figure>\n",
    "\n",
    "# Calibration (Graphical Method)\n",
    "\n",
    "** **\n",
    "\n",
    "* This project uses the lmfit package. Lmfit provides curve fiting using non-linear least squares minimization and was developed by Matt Newville: https://github.com/newville."
   ]
  },
  {
   "cell_type": "code",
   "execution_count": null,
   "id": "cc02e1eb-1030-4097-a79f-b6be7cefacc9",
   "metadata": {},
   "outputs": [],
   "source": []
  },
  {
   "cell_type": "code",
   "execution_count": null,
   "id": "31f851b5-4dde-4306-b3ac-005d816bcc21",
   "metadata": {},
   "outputs": [],
   "source": []
  },
  {
   "cell_type": "code",
   "execution_count": 1,
   "id": "e38ad00d-26a0-4ebe-aaf9-f7884da0064d",
   "metadata": {
    "tags": []
   },
   "outputs": [],
   "source": [
    "#import libraries\n",
    "import matplotlib.pyplot as plt\n",
    "from matplotlib.ticker import FuncFormatter\n",
    "from matplotlib.ticker import ScalarFormatter\n",
    "import numpy as np\n",
    "import pandas as pd\n",
    "from lmfit.models import QuadraticModel"
   ]
  },
  {
   "cell_type": "markdown",
   "id": "41b32601-b913-4a19-b258-6fcf5ddbc99f",
   "metadata": {},
   "source": [
    "## Data Wrangling"
   ]
  },
  {
   "cell_type": "code",
   "execution_count": 8,
   "id": "d58c1aa6-2d73-472f-b958-5a43b02bcabf",
   "metadata": {
    "tags": []
   },
   "outputs": [
    {
     "data": {
      "text/html": [
       "<div>\n",
       "<style scoped>\n",
       "    .dataframe tbody tr th:only-of-type {\n",
       "        vertical-align: middle;\n",
       "    }\n",
       "\n",
       "    .dataframe tbody tr th {\n",
       "        vertical-align: top;\n",
       "    }\n",
       "\n",
       "    .dataframe thead th {\n",
       "        text-align: right;\n",
       "    }\n",
       "</style>\n",
       "<table border=\"1\" class=\"dataframe\">\n",
       "  <thead>\n",
       "    <tr style=\"text-align: right;\">\n",
       "      <th></th>\n",
       "      <th>Resistance [Ω]</th>\n",
       "      <th>Temperature [K]</th>\n",
       "      <th>Resistance error [Keithley 195A]</th>\n",
       "      <th>Temperature errors</th>\n",
       "    </tr>\n",
       "  </thead>\n",
       "  <tbody>\n",
       "    <tr>\n",
       "      <th>0</th>\n",
       "      <td>207</td>\n",
       "      <td>10.504</td>\n",
       "      <td>10.11</td>\n",
       "      <td>0.53</td>\n",
       "    </tr>\n",
       "    <tr>\n",
       "      <th>1</th>\n",
       "      <td>312</td>\n",
       "      <td>8.630</td>\n",
       "      <td>11.70</td>\n",
       "      <td>0.35</td>\n",
       "    </tr>\n",
       "    <tr>\n",
       "      <th>2</th>\n",
       "      <td>402</td>\n",
       "      <td>7.767</td>\n",
       "      <td>13.03</td>\n",
       "      <td>0.23</td>\n",
       "    </tr>\n",
       "    <tr>\n",
       "      <th>3</th>\n",
       "      <td>481</td>\n",
       "      <td>7.141</td>\n",
       "      <td>14.22</td>\n",
       "      <td>0.22</td>\n",
       "    </tr>\n",
       "    <tr>\n",
       "      <th>4</th>\n",
       "      <td>555</td>\n",
       "      <td>6.634</td>\n",
       "      <td>15.33</td>\n",
       "      <td>0.20</td>\n",
       "    </tr>\n",
       "  </tbody>\n",
       "</table>\n",
       "</div>"
      ],
      "text/plain": [
       "   Resistance [Ω]  Temperature [K]  Resistance error [Keithley 195A]  \\\n",
       "0             207           10.504                             10.11   \n",
       "1             312            8.630                             11.70   \n",
       "2             402            7.767                             13.03   \n",
       "3             481            7.141                             14.22   \n",
       "4             555            6.634                             15.33   \n",
       "\n",
       "   Temperature errors  \n",
       "0                0.53  \n",
       "1                0.35  \n",
       "2                0.23  \n",
       "3                0.22  \n",
       "4                0.20  "
      ]
     },
     "execution_count": 8,
     "metadata": {},
     "output_type": "execute_result"
    }
   ],
   "source": [
    "temp_df = pd.read_csv(\"./Data/temperature_values.csv\", sep = \",\")\n",
    "\n",
    "temp_df.head()"
   ]
  },
  {
   "cell_type": "code",
   "execution_count": 12,
   "id": "d19a773e-92df-40df-9cc9-ec249297539b",
   "metadata": {},
   "outputs": [
    {
     "name": "stdout",
     "output_type": "stream",
     "text": [
      "[207, 312, 402, 481, 555, 620, 687, 757, 857, 937, 1030, 1045, 1085, 1116, 1152, 1169, 1184, 1198, 1220, 1244, 1263, 1303, 1313]\n",
      "[10.504, 8.63, 7.767, 7.141, 6.634, 6.338, 6.013, 5.765, 5.489, 5.171, 4.923, 4.8889, 4.804, 4.72, 4.655, 4.622, 4.557, 4.478, 4.447, 4.416, 4.4, 4.37, 4.354]\n"
     ]
    }
   ],
   "source": [
    "print(list(temp_df[\"Resistance [Ω]\"]))\n",
    "\n",
    "print(list(temp_df[\"Temperature [K]\"]))"
   ]
  },
  {
   "cell_type": "code",
   "execution_count": null,
   "id": "3d6d65ba-1082-4039-beef-6f99a1dc136b",
   "metadata": {},
   "outputs": [],
   "source": []
  },
  {
   "cell_type": "code",
   "execution_count": null,
   "id": "7303dabf-5238-4083-bc79-69156b7337b2",
   "metadata": {},
   "outputs": [],
   "source": []
  },
  {
   "cell_type": "code",
   "execution_count": 13,
   "id": "5947b91b-5079-4136-ae2f-a3416254923f",
   "metadata": {},
   "outputs": [],
   "source": [
    "#Load Data\n",
    "x = np.array([4.3540, 4.3700, 4.4000, 4.4160, 4.4470, 4.4780, 4.5570, 4.6220, 4.6550, 4.7200, 4.8040, 4.8890, 4.9230, 5.1710, 5.4890, 5.7650, 6.0130, 6.3380, 6.6340, 7.1410, 7.7670, 8.6300])\n",
    "y = np.array([12.7796, 12.42812, 12.42161, 12.17842, 11.8694, 12.08353, 12.335, 11.9236, 12.05864, 12.1316, 11.37835, 12.06255, 11.2334, 11.25515, 10.2323, 10.3061, 9.5291, 8.45198, 7.80598, 6.1064, 5.04825, 4.9833])\n",
    "\n",
    "ex = np.array([0.005, 0.005, 0.005, 0.005, 0.005, 0.005, 0.005, 0.005, 0.005, 0.005, 0.005, 0.005, 0.005, 0.005, 0.005, 0.005, 0.005, 0.005, 0.005, 0.005, 0.005, 0.005])\n",
    "\n",
    "ey = np.array([0.3063, 0.315, 0.249, 0.1603, 0.399, 0.4102, 0.5044, 0.2474, 0.3031, 0.6722, 0.3483, 1.0455, 1.0485, 0.5458, 0.6177, 0.5387, 0.4113, 0.3971, 0.25, 0.2268, 0.4208, 0.3766])\n",
    "\n",
    "\n",
    "w = np.array([4.3540, 4.3700, 4.4000, 4.4160, 4.4470, 4.4780, 4.5570, 4.6220, 4.6550, 4.7200, 4.8040, 4.8890, 4.9230, 5.1710, 5.4890, 5.7650, 6.0130, 6.3380, 6.6340, 7.1410, 7.7670, 8.6300])\n",
    "z = np.array([22.1452, 22.09925, 22.01246, 21.9659, 21.8751, 21.7834, 21.5464, 21.3475, 21.2452, 21.0409, 20.7716, 20.4927, 20.3794, 19.5221, 18.3427, 17.2473, 16.2085, 14.7745, 13.4035, 10.9359, 7.7410, 3.2225])\n",
    "\n",
    "m_1 = np.array([4.3540, 4.3700, 4.4000, 4.4160, 4.4470, 4.4780, 4.5570, 4.6220, 4.6550, 4.7200, 4.8040, 4.8890, 4.9230, 5.1710, 5.4890, 5.7650, 6.0130, 6.3380, 6.6340, 7.1410, 7.7670, 8.6300])\n",
    "m_2 = np.array([16.3704, 16.3497, 16.3104, 16.2892, 16.2475, 16.2052, 16.0943, 15.9996, 15.9504, 15.8511, 15.7182, 15.5783, 15.5208, 15.0749, 14.4322, 13.8073, 13.1905, 12.3002, 11.4054, 9.6804, 7.2086, 3.2102])"
   ]
  },
  {
   "cell_type": "markdown",
   "id": "c323d4c6-e03a-4114-a7d3-4a0cf052420b",
   "metadata": {},
   "source": [
    "## Fit a best fit line through the experimental data"
   ]
  },
  {
   "cell_type": "code",
   "execution_count": 14,
   "id": "ce1a8c82-bb4e-4f35-8e80-23de6d70f5c6",
   "metadata": {},
   "outputs": [],
   "source": [
    "#use the builtin quadratic model:\n",
    "mod1 = QuadraticModel(prefix='g1_')\n",
    "\n",
    "#set initial parameters\n",
    "pars1 = mod1.guess(y, x=x)"
   ]
  },
  {
   "cell_type": "code",
   "execution_count": 15,
   "id": "56bc8d0d-c225-4a5e-ae5b-dc8ba45fc79d",
   "metadata": {},
   "outputs": [
    {
     "name": "stdout",
     "output_type": "stream",
     "text": [
      "\n",
      "[[Model]]\n",
      "    Model(parabolic, prefix='g1_')\n",
      "[[Fit Statistics]]\n",
      "    # fitting method   = Nelder-Mead\n",
      "    # function evals   = 179\n",
      "    # data points      = 22\n",
      "    # variables        = 3\n",
      "    chi-square         = 19.0107016\n",
      "    reduced chi-square = 1.00056324\n",
      "    Akaike info crit   = 2.78711143\n",
      "    Bayesian info crit = 6.06023879\n",
      "    R-squared          = 0.84980015\n",
      "[[Variables]]\n",
      "    g1_a:  0.11498531 +/- 0.06304684 (54.83%) (init = 0.05646122)\n",
      "    g1_b: -3.41739542 +/- 0.76928022 (22.51%) (init = -2.683016)\n",
      "    g1_c:  25.2569165 +/- 2.23217576 (8.84%) (init = 23.22355)\n",
      "[[Correlations]] (unreported correlations are < 0.100)\n",
      "    C(g1_a, g1_b) = -0.9960\n",
      "    C(g1_b, g1_c) = -0.9960\n",
      "    C(g1_a, g1_c) = +0.9850\n",
      "\n"
     ]
    }
   ],
   "source": [
    "#fit with weights=1./yerr\n",
    "result1 = mod1.fit(y, pars1, x=x, method = 'nelder', weights = 1./ (ey + y * 0.0069))\n",
    "\n",
    "#print the Fit Statistics and parameters\n",
    "print()\n",
    "print(result1.fit_report())\n",
    "print()"
   ]
  },
  {
   "cell_type": "markdown",
   "id": "6ae6f699-7146-4f5d-ad61-c178c921f8c8",
   "metadata": {},
   "source": [
    "## Plot the data and model"
   ]
  },
  {
   "cell_type": "code",
   "execution_count": 16,
   "id": "a273848f-5fd2-470c-adb4-fedaaf1eaa3f",
   "metadata": {},
   "outputs": [
    {
     "data": {
      "image/png": "[encoded data removed]",
      "text/plain": [
       "<Figure size 640x480 with 1 Axes>"
      ]
     },
     "metadata": {},
     "output_type": "display_data"
    }
   ],
   "source": [
    "fig, ax = plt.subplots()\n",
    "\n",
    "ax.set_xscale('log')\n",
    "ax.set_yscale('log')\n",
    "\n",
    "ax.errorbar(x, y, yerr=ey, xerr=ex, fmt='s', label=\"Experiment\", markersize=5, color= '#%02x%02x%02x' % (113, 179, 211))\n",
    "ax.plot(w, z, 'd', label=\"Weak Coupling\", markersize=8, color= '#%02x%02x%02x' %  (141, 98, 65))\n",
    "ax.plot(m_1, m_2, 'o', label=\"Strong Coupling\", markersize=7, color= '#%02x%02x%02x' % (60, 68, 67))\n",
    "ax.plot(x, result1.best_fit, color= '#%02x%02x%02x' % (113, 179, 211), linewidth=1.5)\n",
    "\n",
    "ax.set_title(\"Josephson Current Dependence on Temperature\")\n",
    "ax.set_xlabel(\"T [K]\")\n",
    "ax.set_ylabel(\"$I_{c}$ $[\\mu A]$\")\n",
    "ax.grid(False)\n",
    "ax.get_yaxis().set_major_formatter(\n",
    "    FuncFormatter(lambda x, p: format(int(x), ',')))\n",
    "plt.gca().xaxis.set_major_formatter(ScalarFormatter()) \n",
    "plt.gca().xaxis.set_minor_formatter(ScalarFormatter())\n",
    "plt.gca().yaxis.set_major_formatter(ScalarFormatter()) \n",
    "plt.gca().yaxis.set_minor_formatter(ScalarFormatter())\n",
    "plt.ticklabel_format(style='plain')\n",
    "\n",
    "ax.legend()\n",
    "plt.show()"
   ]
  },
  {
   "cell_type": "code",
   "execution_count": null,
   "id": "5acec584-02c1-4b83-857a-f07df3dacb3c",
   "metadata": {},
   "outputs": [],
   "source": []
  }
 ],
 "metadata": {
  "kernelspec": {
   "display_name": "Python 3 (ipykernel)",
   "language": "python",
   "name": "python3"
  },
  "language_info": {
   "codemirror_mode": {
    "name": "ipython",
    "version": 3
   },
   "file_extension": ".py",
   "mimetype": "text/x-python",
   "name": "python",
   "nbconvert_exporter": "python",
   "pygments_lexer": "ipython3",
   "version": "3.11.4"
  },
  "widgets": {
   "application/vnd.jupyter.widget-state+json": {
    "state": {},
    "version_major": 2,
    "version_minor": 0
   }
  }
 },
 "nbformat": 4,
 "nbformat_minor": 5
}
