{
 "cells": [
  {
   "cell_type": "markdown",
   "id": "d6b2b4cd-78cb-4a23-8c4e-5975a140cc44",
   "metadata": {},
   "source": [
    "** ** \n",
    "\n",
    "<figure>\n",
    "<div style=\"text-align:center\"><img src=\"./img/junction.png\" /></div>\n",
    "<p><center>Simplified diagram of a Josephson Junction.</center></p>\n",
    "</figure>\n",
    "\n",
    "# Ic vs T\n",
    "\n",
    "** **\n",
    "\n",
    "* This project uses the lmfit package. Lmfit provides curve fiting using non-linear least squares minimization and was developed by Matt Newville: https://github.com/newville."
   ]
  },
  {
   "cell_type": "markdown",
   "id": "f8710c26-5c3a-47f2-8324-ace68222379a",
   "metadata": {},
   "source": [
    "## Install and import libraries"
   ]
  },
  {
   "cell_type": "code",
   "execution_count": 1,
   "id": "31f851b5-4dde-4306-b3ac-005d816bcc21",
   "metadata": {},
   "outputs": [],
   "source": [
    "#uncomment the following line to install lmfit\n",
    "#!pip install lmfit"
   ]
  },
  {
   "cell_type": "code",
   "execution_count": 2,
   "id": "e38ad00d-26a0-4ebe-aaf9-f7884da0064d",
   "metadata": {
    "tags": []
   },
   "outputs": [],
   "source": [
    "#import libraries\n",
    "import matplotlib.pyplot as plt\n",
    "from matplotlib.ticker import FuncFormatter\n",
    "from matplotlib.ticker import ScalarFormatter\n",
    "import numpy as np\n",
    "import pandas as pd\n",
    "from lmfit.models import QuadraticModel"
   ]
  },
  {
   "cell_type": "markdown",
   "id": "41b32601-b913-4a19-b258-6fcf5ddbc99f",
   "metadata": {},
   "source": [
    "## Data"
   ]
  },
  {
   "cell_type": "code",
   "execution_count": 3,
   "id": "d58c1aa6-2d73-472f-b958-5a43b02bcabf",
   "metadata": {
    "tags": []
   },
   "outputs": [
    {
     "data": {
      "text/html": [
       "<div>\n",
       "<style scoped>\n",
       "    .dataframe tbody tr th:only-of-type {\n",
       "        vertical-align: middle;\n",
       "    }\n",
       "\n",
       "    .dataframe tbody tr th {\n",
       "        vertical-align: top;\n",
       "    }\n",
       "\n",
       "    .dataframe thead th {\n",
       "        text-align: right;\n",
       "    }\n",
       "</style>\n",
       "<table border=\"1\" class=\"dataframe\">\n",
       "  <thead>\n",
       "    <tr style=\"text-align: right;\">\n",
       "      <th></th>\n",
       "      <th>0</th>\n",
       "      <th>1</th>\n",
       "      <th>2</th>\n",
       "      <th>3</th>\n",
       "      <th>4</th>\n",
       "      <th>5</th>\n",
       "      <th>6</th>\n",
       "    </tr>\n",
       "  </thead>\n",
       "  <tbody>\n",
       "    <tr>\n",
       "      <th>0</th>\n",
       "      <td>23.4006</td>\n",
       "      <td>20.7588</td>\n",
       "      <td>15.4768</td>\n",
       "      <td>2.881</td>\n",
       "      <td>3.4989</td>\n",
       "      <td>2.7127</td>\n",
       "      <td>4.5206</td>\n",
       "    </tr>\n",
       "    <tr>\n",
       "      <th>1</th>\n",
       "      <td>23.1830</td>\n",
       "      <td>20.8883</td>\n",
       "      <td>15.5845</td>\n",
       "      <td>2.881</td>\n",
       "      <td>3.4938</td>\n",
       "      <td>2.7115</td>\n",
       "      <td>4.5344</td>\n",
       "    </tr>\n",
       "    <tr>\n",
       "      <th>2</th>\n",
       "      <td>20.4127</td>\n",
       "      <td>20.8871</td>\n",
       "      <td>15.6293</td>\n",
       "      <td>2.867</td>\n",
       "      <td>3.4728</td>\n",
       "      <td>2.7063</td>\n",
       "      <td>4.5910</td>\n",
       "    </tr>\n",
       "    <tr>\n",
       "      <th>3</th>\n",
       "      <td>22.3344</td>\n",
       "      <td>20.8102</td>\n",
       "      <td>15.5944</td>\n",
       "      <td>2.881</td>\n",
       "      <td>3.4624</td>\n",
       "      <td>2.7037</td>\n",
       "      <td>4.6189</td>\n",
       "    </tr>\n",
       "    <tr>\n",
       "      <th>4</th>\n",
       "      <td>22.3391</td>\n",
       "      <td>21.1800</td>\n",
       "      <td>15.9014</td>\n",
       "      <td>2.867</td>\n",
       "      <td>3.4489</td>\n",
       "      <td>2.7002</td>\n",
       "      <td>4.6549</td>\n",
       "    </tr>\n",
       "  </tbody>\n",
       "</table>\n",
       "</div>"
      ],
      "text/plain": [
       "         0        1        2      3       4       5       6\n",
       "0  23.4006  20.7588  15.4768  2.881  3.4989  2.7127  4.5206\n",
       "1  23.1830  20.8883  15.5845  2.881  3.4938  2.7115  4.5344\n",
       "2  20.4127  20.8871  15.6293  2.867  3.4728  2.7063  4.5910\n",
       "3  22.3344  20.8102  15.5944  2.881  3.4624  2.7037  4.6189\n",
       "4  22.3391  21.1800  15.9014  2.867  3.4489  2.7002  4.6549"
      ]
     },
     "execution_count": 3,
     "metadata": {},
     "output_type": "execute_result"
    }
   ],
   "source": [
    "#Load the data\n",
    "df = pd.read_csv(\"./Data/Josephson_data.csv\", sep = \",\", header = None)\n",
    "\n",
    "#Preview the data\n",
    "df.head()"
   ]
  },
  {
   "cell_type": "markdown",
   "id": "189f8d50-c39d-4c81-a900-0d600f2d80f3",
   "metadata": {},
   "source": [
    "## Data Wrangling"
   ]
  },
  {
   "cell_type": "code",
   "execution_count": 4,
   "id": "d19a773e-92df-40df-9cc9-ec249297539b",
   "metadata": {},
   "outputs": [
    {
     "data": {
      "text/html": [
       "<div>\n",
       "<style scoped>\n",
       "    .dataframe tbody tr th:only-of-type {\n",
       "        vertical-align: middle;\n",
       "    }\n",
       "\n",
       "    .dataframe tbody tr th {\n",
       "        vertical-align: top;\n",
       "    }\n",
       "\n",
       "    .dataframe thead th {\n",
       "        text-align: right;\n",
       "    }\n",
       "</style>\n",
       "<table border=\"1\" class=\"dataframe\">\n",
       "  <thead>\n",
       "    <tr style=\"text-align: right;\">\n",
       "      <th></th>\n",
       "      <th>Ic</th>\n",
       "      <th>Ic_weak</th>\n",
       "      <th>Ic_strong</th>\n",
       "      <th>V_gap</th>\n",
       "      <th>Vg_weak</th>\n",
       "      <th>Vg_strong</th>\n",
       "      <th>Temp</th>\n",
       "    </tr>\n",
       "  </thead>\n",
       "  <tbody>\n",
       "    <tr>\n",
       "      <th>0</th>\n",
       "      <td>23.4006</td>\n",
       "      <td>20.7588</td>\n",
       "      <td>15.4768</td>\n",
       "      <td>2.881</td>\n",
       "      <td>3.4989</td>\n",
       "      <td>2.7127</td>\n",
       "      <td>4.5206</td>\n",
       "    </tr>\n",
       "    <tr>\n",
       "      <th>1</th>\n",
       "      <td>23.1830</td>\n",
       "      <td>20.8883</td>\n",
       "      <td>15.5845</td>\n",
       "      <td>2.881</td>\n",
       "      <td>3.4938</td>\n",
       "      <td>2.7115</td>\n",
       "      <td>4.5344</td>\n",
       "    </tr>\n",
       "    <tr>\n",
       "      <th>2</th>\n",
       "      <td>20.4127</td>\n",
       "      <td>20.8871</td>\n",
       "      <td>15.6293</td>\n",
       "      <td>2.867</td>\n",
       "      <td>3.4728</td>\n",
       "      <td>2.7063</td>\n",
       "      <td>4.5910</td>\n",
       "    </tr>\n",
       "    <tr>\n",
       "      <th>3</th>\n",
       "      <td>22.3344</td>\n",
       "      <td>20.8102</td>\n",
       "      <td>15.5944</td>\n",
       "      <td>2.881</td>\n",
       "      <td>3.4624</td>\n",
       "      <td>2.7037</td>\n",
       "      <td>4.6189</td>\n",
       "    </tr>\n",
       "    <tr>\n",
       "      <th>4</th>\n",
       "      <td>22.3391</td>\n",
       "      <td>21.1800</td>\n",
       "      <td>15.9014</td>\n",
       "      <td>2.867</td>\n",
       "      <td>3.4489</td>\n",
       "      <td>2.7002</td>\n",
       "      <td>4.6549</td>\n",
       "    </tr>\n",
       "  </tbody>\n",
       "</table>\n",
       "</div>"
      ],
      "text/plain": [
       "        Ic  Ic_weak  Ic_strong  V_gap  Vg_weak  Vg_strong    Temp\n",
       "0  23.4006  20.7588    15.4768  2.881   3.4989     2.7127  4.5206\n",
       "1  23.1830  20.8883    15.5845  2.881   3.4938     2.7115  4.5344\n",
       "2  20.4127  20.8871    15.6293  2.867   3.4728     2.7063  4.5910\n",
       "3  22.3344  20.8102    15.5944  2.881   3.4624     2.7037  4.6189\n",
       "4  22.3391  21.1800    15.9014  2.867   3.4489     2.7002  4.6549"
      ]
     },
     "execution_count": 4,
     "metadata": {},
     "output_type": "execute_result"
    }
   ],
   "source": [
    "df.rename(columns = {0: \"Ic\", 1: \"Ic_weak\", 2: \"Ic_strong\", \n",
    "                     3: \"V_gap\", 4: \"Vg_weak\", 5: \"Vg_strong\", 6: \"Temp\"}, inplace = True)\n",
    "df.head()"
   ]
  },
  {
   "cell_type": "code",
   "execution_count": 5,
   "id": "5947b91b-5079-4136-ae2f-a3416254923f",
   "metadata": {},
   "outputs": [],
   "source": [
    "#Load Data\n",
    "x = df[\"Temp\"]\n",
    "y = df[\"V_gap\"]\n",
    "\n",
    "z = df[\"Vg_weak\"]\n",
    "\n",
    "m = df[\"Vg_strong\"]"
   ]
  },
  {
   "cell_type": "markdown",
   "id": "c323d4c6-e03a-4114-a7d3-4a0cf052420b",
   "metadata": {},
   "source": [
    "## Fit a best fit line through the experimental data"
   ]
  },
  {
   "cell_type": "code",
   "execution_count": 6,
   "id": "ce1a8c82-bb4e-4f35-8e80-23de6d70f5c6",
   "metadata": {},
   "outputs": [],
   "source": [
    "#use the builtin quadratic model:\n",
    "mod1 = QuadraticModel(prefix='g1_')\n",
    "\n",
    "#set initial parameters\n",
    "pars1 = mod1.guess(y, x=x)"
   ]
  },
  {
   "cell_type": "code",
   "execution_count": 19,
   "id": "56bc8d0d-c225-4a5e-ae5b-dc8ba45fc79d",
   "metadata": {},
   "outputs": [
    {
     "name": "stdout",
     "output_type": "stream",
     "text": [
      "\n",
      "[[Model]]\n",
      "    Model(parabolic, prefix='g1_')\n",
      "[[Fit Statistics]]\n",
      "    # fitting method   = Nelder-Mead\n",
      "    # function evals   = 100\n",
      "    # data points      = 21\n",
      "    # variables        = 3\n",
      "    chi-square         = 18.0019735\n",
      "    reduced chi-square = 1.00010964\n",
      "    Akaike info crit   = 2.76513806\n",
      "    Bayesian info crit = 5.89870537\n",
      "    R-squared          = -11.1808428\n",
      "[[Variables]]\n",
      "    g1_a: -0.11109154 +/- 0.00526099 (4.74%) (init = -0.1110915)\n",
      "    g1_b:  0.96296618 +/- 0.06078126 (6.31%) (init = 0.9629662)\n",
      "    g1_c:  0.78862873 +/- 0.17132470 (21.72%) (init = 0.7886287)\n",
      "[[Correlations]] (unreported correlations are < 0.100)\n",
      "    C(g1_b, g1_c) = -0.9982\n",
      "    C(g1_a, g1_b) = -0.9979\n",
      "    C(g1_a, g1_c) = +0.9923\n",
      "\n"
     ]
    }
   ],
   "source": [
    "#fit with weights=1./yerr\n",
    "result1 = mod1.fit(y, pars1, x=x, method = 'nelder', weights = 1./ (np.std(y) * 0.05544))\n",
    "\n",
    "#print the Fit Statistics and parameters\n",
    "print()\n",
    "print(result1.fit_report())\n",
    "print()"
   ]
  },
  {
   "cell_type": "markdown",
   "id": "6ae6f699-7146-4f5d-ad61-c178c921f8c8",
   "metadata": {},
   "source": [
    "## Plot the data and model"
   ]
  },
  {
   "cell_type": "code",
   "execution_count": 24,
   "id": "a273848f-5fd2-470c-adb4-fedaaf1eaa3f",
   "metadata": {},
   "outputs": [
    {
     "data": {
      "image/png": "[encoded data removed]",
      "text/plain": [
       "<Figure size 900x600 with 1 Axes>"
      ]
     },
     "metadata": {},
     "output_type": "display_data"
    }
   ],
   "source": [
    "fig, ax = plt.subplots(figsize = (9, 6))\n",
    "\n",
    "ax.set_xscale('log')\n",
    "ax.set_yscale('log')\n",
    "\n",
    "ax.errorbar(x, y, yerr=(np.std(y) * 0.05544), fmt='s', label=\"Experiment\", markersize=5, color= \"#cc6633\")\n",
    "ax.plot(x, z, 'd', label=\"Weak Coupling\", markersize=8, color= '#%02x%02x%02x' %  (141, 98, 65))\n",
    "ax.plot(x, m, 'o', label=\"Strong Coupling\", markersize=7, color= '#%02x%02x%02x' % (60, 68, 67))\n",
    "ax.plot(x, result1.best_fit, color= \"#cc6633\", linewidth=1.5)\n",
    "\n",
    "ax.set_title(\"Gap Voltage Dependence on Temperature\")\n",
    "ax.set_xlabel(\"T [K]\")\n",
    "ax.set_ylabel(\"$2\\Delta(T) / e$ $[mV]$\")\n",
    "ax.grid(False)\n",
    "ax.get_yaxis().set_major_formatter(\n",
    "    FuncFormatter(lambda x, p: format(int(x), ',')))\n",
    "plt.gca().xaxis.set_major_formatter(ScalarFormatter()) \n",
    "plt.gca().xaxis.set_minor_formatter(ScalarFormatter())\n",
    "plt.gca().yaxis.set_major_formatter(ScalarFormatter()) \n",
    "plt.gca().yaxis.set_minor_formatter(ScalarFormatter())\n",
    "plt.ticklabel_format(style='plain')\n",
    "\n",
    "ax.legend()\n",
    "plt.show()"
   ]
  },
  {
   "cell_type": "markdown",
   "id": "5035c4f8-17de-4add-9f22-8c331e723156",
   "metadata": {},
   "source": [
    "## Author\n",
    "** **\n",
    "\n",
    "### <a href=\"https://www.linkedin.com/in/alin-airinei/\">Alin Airinei</a>"
   ]
  }
 ],
 "metadata": {
  "kernelspec": {
   "display_name": "Python 3 (ipykernel)",
   "language": "python",
   "name": "python3"
  },
  "language_info": {
   "codemirror_mode": {
    "name": "ipython",
    "version": 3
   },
   "file_extension": ".py",
   "mimetype": "text/x-python",
   "name": "python",
   "nbconvert_exporter": "python",
   "pygments_lexer": "ipython3",
   "version": "3.11.4"
  },
  "widgets": {
   "application/vnd.jupyter.widget-state+json": {
    "state": {},
    "version_major": 2,
    "version_minor": 0
   }
  }
 },
 "nbformat": 4,
 "nbformat_minor": 5
}
