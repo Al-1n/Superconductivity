{
 "cells": [
  {
   "cell_type": "markdown",
   "id": "d8a8a37e-f395-405f-a07d-0349694b422d",
   "metadata": {},
   "source": [
    "# Measuring the Josephson Current, the gap voltage and the normal state resistance at 937ohm \n",
    "** **\n",
    " * This project uses the lmfit package. Lmfit provides curve fiting using non-linear least squares minimization and was developed by Matt Newville: https://github.com/newville."
   ]
  },
  {
   "cell_type": "markdown",
   "id": "99bc9cd0-0ca7-4229-bb2d-1414a58bec04",
   "metadata": {},
   "source": [
    "## Install and import libraries"
   ]
  },
  {
   "cell_type": "code",
   "execution_count": 1,
   "id": "fe638614-0386-4845-b482-4cf89c0a7ec4",
   "metadata": {},
   "outputs": [],
   "source": [
    "#uncomment the following line to install lmfit\n",
    "#!pip install lmfit"
   ]
  },
  {
   "cell_type": "code",
   "execution_count": 2,
   "id": "04360f36-197c-420b-8d71-f2df94a17d09",
   "metadata": {
    "tags": []
   },
   "outputs": [],
   "source": [
    "import pandas as pd\n",
    "import numpy as np\n",
    "import seaborn as sns\n",
    "import matplotlib.pyplot as plt\n",
    "from lmfit.models import LinearModel\n",
    "import math"
   ]
  },
  {
   "cell_type": "markdown",
   "id": "0754b065-979d-4761-ae32-c4f0e97c6630",
   "metadata": {},
   "source": [
    "## Data"
   ]
  },
  {
   "cell_type": "code",
   "execution_count": 3,
   "id": "b466b556-6609-46cb-ace8-4d4f8e8be730",
   "metadata": {
    "tags": []
   },
   "outputs": [
    {
     "data": {
      "text/html": [
       "<div>\n",
       "<style scoped>\n",
       "    .dataframe tbody tr th:only-of-type {\n",
       "        vertical-align: middle;\n",
       "    }\n",
       "\n",
       "    .dataframe tbody tr th {\n",
       "        vertical-align: top;\n",
       "    }\n",
       "\n",
       "    .dataframe thead th {\n",
       "        text-align: right;\n",
       "    }\n",
       "</style>\n",
       "<table border=\"1\" class=\"dataframe\">\n",
       "  <thead>\n",
       "    <tr style=\"text-align: right;\">\n",
       "      <th></th>\n",
       "      <th>0</th>\n",
       "      <th>1</th>\n",
       "      <th>2</th>\n",
       "    </tr>\n",
       "  </thead>\n",
       "  <tbody>\n",
       "    <tr>\n",
       "      <th>0</th>\n",
       "      <td>3.686</td>\n",
       "      <td>26.0645</td>\n",
       "      <td>0.00134</td>\n",
       "    </tr>\n",
       "    <tr>\n",
       "      <th>1</th>\n",
       "      <td>3.538</td>\n",
       "      <td>24.9177</td>\n",
       "      <td>0.00128</td>\n",
       "    </tr>\n",
       "    <tr>\n",
       "      <th>2</th>\n",
       "      <td>3.361</td>\n",
       "      <td>23.5739</td>\n",
       "      <td>0.00121</td>\n",
       "    </tr>\n",
       "    <tr>\n",
       "      <th>3</th>\n",
       "      <td>2.945</td>\n",
       "      <td>22.4892</td>\n",
       "      <td>0.00116</td>\n",
       "    </tr>\n",
       "    <tr>\n",
       "      <th>4</th>\n",
       "      <td>2.916</td>\n",
       "      <td>21.0396</td>\n",
       "      <td>0.00109</td>\n",
       "    </tr>\n",
       "  </tbody>\n",
       "</table>\n",
       "</div>"
      ],
      "text/plain": [
       "       0        1        2\n",
       "0  3.686  26.0645  0.00134\n",
       "1  3.538  24.9177  0.00128\n",
       "2  3.361  23.5739  0.00121\n",
       "3  2.945  22.4892  0.00116\n",
       "4  2.916  21.0396  0.00109"
      ]
     },
     "execution_count": 3,
     "metadata": {},
     "output_type": "execute_result"
    }
   ],
   "source": [
    "#Load the data\n",
    "df = pd.read_csv(\"./Data/937_one_pass.csv\", sep = \" \", header = None)\n",
    "\n",
    "#Preview the data\n",
    "df.head()"
   ]
  },
  {
   "cell_type": "markdown",
   "id": "69f59ccf-9d58-428a-aba2-80e58fb89e31",
   "metadata": {},
   "source": [
    "## Data wrangling"
   ]
  },
  {
   "cell_type": "code",
   "execution_count": 4,
   "id": "e0e46b58-f661-4940-a460-22838f6fb379",
   "metadata": {
    "tags": []
   },
   "outputs": [
    {
     "name": "stdout",
     "output_type": "stream",
     "text": [
      "V =  [3.686, 3.538, 3.361, 2.945, 2.916, 2.916, 2.888, 2.874, 2.867, 2.86, 2.846, 2.832, 2.817, 2.832, 2.817, 2.817, 2.81, 2.803, 2.775, 2.775, 2.761, 1.017, 0.106, 0.099, 0.106, 0.099, 0.113, 0.092, 0.106, 0.127, -1.723, -2.641, -2.62, -2.627, -2.641, -2.641, -2.655, -2.655, -2.683, -2.683, -2.712, -3.121, -3.291, -3.474, -3.63, -3.813, -3.961, -4.152, -4.315, -4.477, -4.675, -4.837, -5.028, -5.225, -5.388, -5.593, -5.762, -5.967, -6.157, -6.355, -6.581, -6.793, -6.998, -7.21, -7.407, -7.647, -7.845, -7.888, -7.549, -7.203, -6.864, -6.567, -6.249, -5.896, -5.586, -5.303, -5.028, -4.717, -4.435, -4.138, -3.912, -3.594, -3.319, -2.839, -2.754, -2.74, -2.712, -2.712, -2.697, -2.683, -2.669, -2.641, -2.641, -2.613, 0.021, 0.035, 0.049, 0.035, 0.042, 0.021, 0.049, 2.775, 2.789, 2.803, 2.817, 2.846, 2.874, 3.326, 3.615, 3.834, 4.145, 4.371, 4.632, 4.879, 5.148, 5.43, 5.706, 6.009, 6.292, 6.595, 6.906, 7.196, 7.513, 7.796, 8.156, 8.128, 7.909, 7.697, 7.527, 7.316, 7.153]\n",
      "I =  [26.0645, 24.9177, 23.5739, 22.4892, 21.0396, 19.798, 18.5913, 17.4336, 16.1177, 14.8107, 13.6005, 12.4026, 11.2702, 10.1814, 8.7496, 7.7434, 6.5495, 5.3953, 4.297, 3.2362, 1.9585, 0.8609, -0.352, -1.3282, -2.5384, -3.6585, -4.9887, -6.0215, -7.3416, -8.4119, -9.5995, -10.7094, -12.1045, -13.183, -14.4239, -15.7568, -17.0905, -18.2168, -19.4788, -20.7742, -22.1918, -23.4054, -24.709, -26.1184, -27.3899, -28.9112, -30.1739, -31.6528, -32.9578, -34.6046, -35.8809, -37.3681, -38.92, -40.371, -42.0055, -43.4974, -45.1148, -46.8005, -48.3231, -49.8191, -51.3547, -53.1515, -54.6257, -56.5965, -58.1484, -60.0115, -61.6371, -61.4904, -58.8211, -56.0153, -53.3998, -50.4071, -47.9022, -45.5412, -43.1795, -40.3792, -38.2624, -35.7732, -33.5786, -31.1378, -28.7816, -26.5747, -24.4354, -22.1447, -20.3192, -18.0762, -16.1498, -14.018, -11.9428, -10.2033, -8.1513, -6.1805, -4.2854, -2.6919, -0.8814, 0.8466, 2.6591, 4.5856, 6.4247, 8.0046, 10.1794, 11.8009, 13.8809, 15.6381, 17.6983, 19.8349, 22.0362, 23.7744, 25.941, 28.1424, 30.2251, 32.2948, 34.8249, 36.6156, 38.9801, 40.9754, 43.3671, 45.5344, 48.2692, 50.2973, 52.7913, 55.46, 58.0557, 60.4235, 63.0546, 62.0034, 60.4296, 58.8586, 57.3005, 55.739, 54.0527]\n"
     ]
    }
   ],
   "source": [
    "#Ascribe the columns to the V and I varibles \n",
    "V = list(df[0])\n",
    "I = list(df[1])\n",
    "\n",
    "#Preview the data\n",
    "print(\"V = \", V)\n",
    "print(\"I = \", I )"
   ]
  },
  {
   "cell_type": "code",
   "execution_count": 5,
   "id": "916e74e8-0298-4365-b57c-a2e61a62c345",
   "metadata": {
    "tags": []
   },
   "outputs": [
    {
     "name": "stdout",
     "output_type": "stream",
     "text": [
      "100\n",
      "115\n"
     ]
    }
   ],
   "source": [
    "#Function for detecting the index at which the last occurence of an item resides in a list\n",
    "def find_last_occurrence(value, list):\n",
    "    for i, item in enumerate(list):\n",
    "        if item == value:\n",
    "            last_occurrence = i\n",
    "    return last_occurrence\n",
    "\n",
    "lower_limit = find_last_occurrence(0.049, V)\n",
    "upper_limit = V.index(5.43)\n",
    "\n",
    "print(lower_limit)\n",
    "print(upper_limit)"
   ]
  },
  {
   "cell_type": "code",
   "execution_count": 6,
   "id": "d68cd360-3b84-4be3-968d-8d77562286e7",
   "metadata": {
    "tags": []
   },
   "outputs": [
    {
     "name": "stdout",
     "output_type": "stream",
     "text": [
      "V =  [0.049 2.775 2.789 2.803 2.817 2.846 2.874 3.326 3.615 3.834 4.145 4.371\n",
      " 4.632 4.879 5.148]\n",
      "I =  [10.1794 11.8009 13.8809 15.6381 17.6983 19.8349 22.0362 23.7744 25.941\n",
      " 28.1424 30.2251 32.2948 34.8249 36.6156 38.9801]\n"
     ]
    }
   ],
   "source": [
    "#Remove the data above the chosen upper limit to enhance the view and focus on the single forward pass\n",
    "V = np.array(V[lower_limit:upper_limit])\n",
    "\n",
    "I = np.array(I[lower_limit:upper_limit])\n",
    "\n",
    "#Preview the new subsets\n",
    "print(\"V = \", V)\n",
    "print(\"I = \", I)"
   ]
  },
  {
   "cell_type": "code",
   "execution_count": 7,
   "id": "aede1c1b-543e-4e7f-bd18-2cac0aa30847",
   "metadata": {
    "tags": []
   },
   "outputs": [
    {
     "data": {
      "text/plain": [
       "<seaborn.axisgrid.FacetGrid at 0x7f0413ff52d0>"
      ]
     },
     "execution_count": 7,
     "metadata": {},
     "output_type": "execute_result"
    },
    {
     "data": {
      "image/png": "[encoded data removed]",
      "text/plain": [
       "<Figure size 500x500 with 1 Axes>"
      ]
     },
     "metadata": {},
     "output_type": "display_data"
    }
   ],
   "source": [
    "#Uncomment the line below to make the graph interactive\n",
    "#%matplotlib widget\n",
    "\n",
    "#Preview the data\n",
    "sns.relplot(x = V, y = I, kind = \"line\")"
   ]
  },
  {
   "cell_type": "code",
   "execution_count": 8,
   "id": "6909a570-bf72-4f1b-b00d-4e955bfc4a82",
   "metadata": {
    "tags": []
   },
   "outputs": [
    {
     "data": {
      "image/png": "[encoded data removed]",
      "text/plain": [
       "<Figure size 900x600 with 1 Axes>"
      ]
     },
     "metadata": {},
     "output_type": "display_data"
    }
   ],
   "source": [
    "#Uncomment the line below to make the graph interactive\n",
    "#%matplotlib widget\n",
    "\n",
    "#Set figure size\n",
    "plt.figure(figsize=(9,6))\n",
    "\n",
    "# Define the data\n",
    "V = np.array(V)\n",
    "I = np.array(I)\n",
    "\n",
    "\n",
    "# Define the window size\n",
    "window_size = 6\n",
    "\n",
    "# Calculate the moving averages\n",
    "V_avg = np.convolve(V, np.ones(window_size)/window_size, mode='same')\n",
    "I_avg = np.convolve(I, np.ones(window_size)/window_size, mode='same')\n",
    "\n",
    "# Calculate the standard deviations\n",
    "V_std = np.std(V)\n",
    "I_std = np.std(I)\n",
    "\n",
    "# Calculate the z-scores\n",
    "V_z = (V - V_avg) / V_std\n",
    "I_z = (I - I_avg) / I_std\n",
    "\n",
    "# Calculate the change points\n",
    "change_points = []\n",
    "for i in range(len(V_z)):\n",
    "    if abs(V_z[i]) > 3 or abs(I_z[i]) > 0.1:\n",
    "        change_points.append(i)\n",
    "\n",
    "# Mark the change points on the plot\n",
    "for point in change_points:\n",
    "    plt.axvline(V[point], color='r', linestyle='--', alpha=0.5)\n",
    "\n",
    "    \n",
    "# Plot the data again\n",
    "sns.lineplot(x=V, y=I, color = 'orange')  \n",
    "    \n",
    "# Set plot labels and title\n",
    "plt.xlabel('V')\n",
    "plt.ylabel('I')\n",
    "plt.title('Inflection Points Detection')\n",
    "\n",
    "# Show the plot\n",
    "plt.show()"
   ]
  },
  {
   "cell_type": "markdown",
   "id": "bc785054-bd2d-4230-86b4-fa6440d296cd",
   "metadata": {},
   "source": [
    "### Clear the graph above to focus on Ic and Vc"
   ]
  },
  {
   "cell_type": "code",
   "execution_count": 9,
   "id": "1311acd9-0417-4089-a690-7627baaf5f39",
   "metadata": {
    "tags": []
   },
   "outputs": [
    {
     "data": {
      "image/png": "[encoded data removed]",
      "text/plain": [
       "<Figure size 900x600 with 1 Axes>"
      ]
     },
     "metadata": {},
     "output_type": "display_data"
    }
   ],
   "source": [
    "#Uncomment the line below to make the graph interactive\n",
    "#%matplotlib widget\n",
    "\n",
    "#Set figure size\n",
    "plt.figure(figsize=(9,6))\n",
    "\n",
    "# Define the window size\n",
    "window_size = 6\n",
    "\n",
    "# Calculate the moving averages\n",
    "V_avg = np.convolve(V, np.ones(window_size)/window_size, mode='same')\n",
    "I_avg = np.convolve(I, np.ones(window_size)/window_size, mode='same')\n",
    "\n",
    "# Calculate the standard deviations\n",
    "V_std = np.std(V)\n",
    "I_std = np.std(I)\n",
    "\n",
    "# Calculate the z-scores\n",
    "V_z = (V - V_avg) / V_std\n",
    "I_z = (I - I_avg) / I_std\n",
    "\n",
    "# Calculate the change points\n",
    "change_points = []\n",
    "for i in range(len(V_z)):\n",
    "    if abs(V_z[i]) > 3 or abs(I_z[i]) > 0.1:\n",
    "        change_points.append(i)\n",
    "\n",
    "# Annotate inflection points on the graph\n",
    "for idx, point in enumerate(change_points):\n",
    "    if idx in [1, 4]:\n",
    "        plt.annotate(f'Inflection Point\\n(V={V[point]:.3f}mV)\\n(I = {np.interp(V[point], V, I):3f}$\\mu A$)', \n",
    "                     xy=(V[point], np.interp(V[point], V, I)),\n",
    "                     xytext=(V[point] - 1.2, np.interp(V[point], V, I) + 3),\n",
    "                     arrowprops={'facecolor': 'red', 'shrink': 0.05})\n",
    "\n",
    "    \n",
    "# Plot the data again\n",
    "sns.lineplot(x=V, y=I, color = 'orange')  \n",
    "    \n",
    "# Set plot labels and title\n",
    "plt.xlabel('V')\n",
    "plt.ylabel('I')\n",
    "plt.title('Inflection Points Detection')\n",
    "\n",
    "# Show the plot\n",
    "plt.show()"
   ]
  },
  {
   "cell_type": "markdown",
   "id": "e85392e7-7fdc-4476-805f-665973b49608",
   "metadata": {},
   "source": [
    "# Estimating the normal state resistance (Rn)"
   ]
  },
  {
   "cell_type": "code",
   "execution_count": 10,
   "id": "59c0fa22-6aaf-4859-b923-3ff6aa7fe6de",
   "metadata": {
    "tags": []
   },
   "outputs": [
    {
     "name": "stdout",
     "output_type": "stream",
     "text": [
      "[3.686, 3.538, 3.361, 2.945, 2.916, 2.916, 2.888, 2.874, 2.867, 2.86, 2.846, 2.832, 2.817, 2.832, 2.817, 2.817, 2.81, 2.803, 2.775, 2.775, 2.761, 1.017, 0.106, 0.099, 0.106, 0.099, 0.113, 0.092, 0.106, 0.127, -1.723, -2.641, -2.62, -2.627, -2.641, -2.641, -2.655, -2.655, -2.683, -2.683, -2.712, -3.121, -3.291, -3.474, -3.63, -3.813, -3.961, -4.152, -4.315, -4.477, -4.675, -4.837, -5.028, -5.225, -5.388, -5.593, -5.762, -5.967, -6.157, -6.355, -6.581, -6.793, -6.998, -7.21, -7.407, -7.647, -7.845, -7.888, -7.549, -7.203, -6.864, -6.567, -6.249, -5.896, -5.586, -5.303, -5.028, -4.717, -4.435, -4.138, -3.912, -3.594, -3.319, -2.839, -2.754, -2.74, -2.712, -2.712, -2.697, -2.683, -2.669, -2.641, -2.641, -2.613, 0.021, 0.035, 0.049, 0.035, 0.042, 0.021, 0.049, 2.775, 2.789, 2.803, 2.817, 2.846, 2.874, 3.326, 3.615, 3.834, 4.145, 4.371, 4.632, 4.879, 5.148, 5.43, 5.706, 6.009, 6.292, 6.595, 6.906, 7.196, 7.513, 7.796, 8.156, 8.128, 7.909, 7.697, 7.527, 7.316, 7.153]\n"
     ]
    }
   ],
   "source": [
    "#Preview the main dataset\n",
    "print(list(df[0]))"
   ]
  },
  {
   "cell_type": "code",
   "execution_count": 11,
   "id": "78ae52f8-aafc-41de-a28e-b7e91c22e3e3",
   "metadata": {
    "tags": []
   },
   "outputs": [
    {
     "name": "stdout",
     "output_type": "stream",
     "text": [
      "106\n",
      "124\n"
     ]
    }
   ],
   "source": [
    "#The dataset includes points from two complete sweeps\n",
    "#Identify the index of the approximate limits of the normal state on the positive side of the graph \n",
    "\n",
    "#Function that returns the index of the last occurrence of an item in a list\n",
    "def find_last_occurrence(value, list):\n",
    "    for i, item in enumerate(list):\n",
    "        if item == value:\n",
    "            last_occurrence = i\n",
    "    return last_occurrence\n",
    "\n",
    "low_limit = find_last_occurrence(2.874, list(df[0])) #the second change point above \n",
    "up_limit = list(df[0]).index(df[0].max()) \n",
    "\n",
    "print(low_limit) \n",
    "print(up_limit)"
   ]
  },
  {
   "cell_type": "code",
   "execution_count": 12,
   "id": "b864c5cd-63be-4c90-ba23-6d975b3d44c4",
   "metadata": {
    "tags": []
   },
   "outputs": [
    {
     "name": "stdout",
     "output_type": "stream",
     "text": [
      "[2.874 3.326 3.615 3.834 4.145 4.371 4.632 4.879 5.148 5.43  5.706 6.009\n",
      " 6.292 6.595 6.906 7.196 7.513 7.796]\n",
      "[22.0362 23.7744 25.941  28.1424 30.2251 32.2948 34.8249 36.6156 38.9801\n",
      " 40.9754 43.3671 45.5344 48.2692 50.2973 52.7913 55.46   58.0557 60.4235]\n"
     ]
    }
   ],
   "source": [
    "#Select data from the first pass\n",
    "V_n = np.array(df[0][low_limit:up_limit])\n",
    "I_n = np.array(df[1][low_limit:up_limit])\n",
    "\n",
    "#Preview the data\n",
    "print(V_n)\n",
    "print(I_n)"
   ]
  },
  {
   "cell_type": "markdown",
   "id": "85c19d83-70af-4459-979f-865a26a9e202",
   "metadata": {},
   "source": [
    "## Define the model and fit the data"
   ]
  },
  {
   "cell_type": "code",
   "execution_count": 13,
   "id": "14e579a1-d903-42ee-9b29-f3b31a16d046",
   "metadata": {
    "tags": []
   },
   "outputs": [
    {
     "name": "stdout",
     "output_type": "stream",
     "text": [
      "[[Model]]\n",
      "    Model(linear)\n",
      "[[Fit Statistics]]\n",
      "    # fitting method   = leastsq\n",
      "    # function evals   = 7\n",
      "    # data points      = 18\n",
      "    # variables        = 2\n",
      "    chi-square         = 16.0233686\n",
      "    reduced chi-square = 1.00146053\n",
      "    Akaike info crit   = 1.90617581\n",
      "    Bayesian info crit = 3.68691932\n",
      "    R-squared          = 1.00000000\n",
      "[[Variables]]\n",
      "    slope:      7936.58950 +/- 116.586091 (1.47%) (init = 8046.356)\n",
      "    intercept: -2048797.14 +/- 545414.802 (26.62%) (init = -2588340)\n",
      "[[Correlations]] (unreported correlations are < 0.100)\n",
      "    C(slope, intercept) = -0.9587\n"
     ]
    }
   ],
   "source": [
    "#Define the variables and convert to Volts and Amps\n",
    "x = V_n / 0.001\n",
    "y = I_n / 0.000001\n",
    "\n",
    "#Use builtin NameModel, specify prefix for each:\n",
    "mod = LinearModel(prefix='') \n",
    "\n",
    "#Set the initial parameters to 'guess' mode\n",
    "pars  = mod.guess(y, x = x)\n",
    "\n",
    "#Fit with weights=1/yerr\n",
    "result = mod.fit(y, pars, x = x, weights= 1. / (y * 0.0187))\n",
    "\n",
    "#Print the fit results\n",
    "print(result.fit_report())"
   ]
  },
  {
   "cell_type": "markdown",
   "id": "4e2b31af-3b9f-41ff-bab6-429b46e63cd5",
   "metadata": {},
   "source": [
    "## Plot the model"
   ]
  },
  {
   "cell_type": "code",
   "execution_count": 14,
   "id": "b562e985-269d-4d96-9741-543a4bb1a329",
   "metadata": {
    "tags": []
   },
   "outputs": [
    {
     "data": {
      "image/png": "[encoded data removed]",
      "text/plain": [
       "<Figure size 900x600 with 1 Axes>"
      ]
     },
     "metadata": {},
     "output_type": "display_data"
    }
   ],
   "source": [
    "#Set the figure size\n",
    "plt.figure(figsize = (9,6))\n",
    "\n",
    "#Plot the data and the model\n",
    "plt.scatter(x, y, linewidth=2)\n",
    "plt.plot(x, result.best_fit, 'r-', linewidth=2.5)\n",
    "\n",
    "# Set plot labels and title\n",
    "plt.xlabel('V ($V$)')\n",
    "plt.ylabel('I ($A$)')\n",
    "plt.title('Normal State IVC')\n",
    "\n",
    "#Show the plot\n",
    "plt.show()"
   ]
  },
  {
   "cell_type": "markdown",
   "id": "b4bf727c-9b28-4da8-b6c6-4fb66078c772",
   "metadata": {},
   "source": [
    "# Calculating the theoretical Ic and V_gap\n",
    "\n",
    "![](./img/Ic_formula.png)"
   ]
  },
  {
   "cell_type": "code",
   "execution_count": 15,
   "id": "9c3f054f-0b07-4f8f-b3de-a8fdd96668ba",
   "metadata": {
    "tags": []
   },
   "outputs": [
    {
     "data": {
      "text/plain": [
       "{'slope': 7936.589503354225, 'intercept': -2048797.138098626}"
      ]
     },
     "execution_count": 15,
     "metadata": {},
     "output_type": "execute_result"
    }
   ],
   "source": [
    "#Access the model parameters\n",
    "varys = result.params.valuesdict()\n",
    "\n",
    "varys"
   ]
  },
  {
   "cell_type": "code",
   "execution_count": 16,
   "id": "b00cd57a-cc33-4faf-a5ee-3ae6e148bd15",
   "metadata": {
    "tags": []
   },
   "outputs": [
    {
     "name": "stdout",
     "output_type": "stream",
     "text": [
      "Normal state resistance: R_n =  0.000126 Ohm\n"
     ]
    }
   ],
   "source": [
    "#The slope is equal to 1 / R \n",
    "R_n = 1 / varys.get(\"slope\")\n",
    "\n",
    "print('Normal state resistance: R_n = ', round(R_n, 6), 'Ohm') "
   ]
  },
  {
   "cell_type": "code",
   "execution_count": 17,
   "id": "9447a90f-624a-41a4-9975-06e5b6d0a2b4",
   "metadata": {
    "tags": []
   },
   "outputs": [
    {
     "name": "stdout",
     "output_type": "stream",
     "text": [
      "Temperature = 5.1778127 K\n",
      "-----------------------------\n",
      "-----------------------------\n",
      "Weak Coupling Formula\n",
      "-----------------------------\n",
      "delta_t = 2.600949337368348e-22 J\n",
      "Gap Energy = 5.201898674736696e-22 J\n",
      "Gap Voltage = 3.246722428371424 mV\n",
      "Josephson Current = 19.200832075996605 uA\n",
      "______________________________\n",
      "______________________________\n",
      "------------------------------\n",
      "Strong Coupling Approximation\n",
      "------------------------------\n",
      "delta_t = 2.1149593756527314e-22 J\n",
      "Gap Energy =  4.229918751305463e-22 J\n",
      "Gap Voltage = 2.6400691245197 mV\n",
      "Josephson Current = 14.832589518228286 uA\n",
      "________________________________\n",
      "________________________________\n",
      "________________________________\n"
     ]
    }
   ],
   "source": [
    "#Define the terms for the strong and weak coupling formulas \n",
    "t_c = 9.25 #critical temperature\n",
    "delta_0 = 2.25288819E-22 # from 1.764 * k_B * t_c,  [check eqn. 1 on the report paper] \n",
    "t = 5.1778127 #from the calibration curve in notebook 2\n",
    "e = 1.6022E-19 #elementay charge\n",
    "pi = 3.14159265358979323846264338327950 \n",
    "t_red = t / t_c #the reduced temperature\n",
    "k_B = 1.3807E-23 #Boltzmann constant\n",
    "R_n = 1 / varys.get(\"slope\") #from the slope of the IVC\n",
    "\n",
    "\n",
    "#weak coupling formula\n",
    "\n",
    "delta_weak = delta_0 * 1.74 * math.sqrt(1.0 - t_red)\n",
    "\n",
    "E_weak = delta_weak * 2\n",
    "\n",
    "V_weak = (E_weak / e) * 1000\n",
    "\n",
    "#The Ambegaokar-Baratoff formula\n",
    "Ic_weak = (pi / 2) * (delta_weak / (e * R_n)) * math.tanh(delta_weak / (2 * k_B * t))\n",
    "\n",
    "\n",
    "#strong coupling approximation\n",
    "\n",
    "delta_strong = (delta_0) * math.sqrt(math.cos((pi * t_red**2)  / 2 )) \n",
    "\n",
    "E_strong = delta_strong * 2\n",
    "\n",
    "V_strong = (E_strong / e) * 1000\n",
    "\n",
    "#The Ambegaokar-Baratoff formula\n",
    "Ic_strong = (pi / 2) * (delta_strong / (e * R_n)) * math.tanh(delta_strong / (2 * k_B * t))\n",
    "\n",
    "\n",
    "#Print the results\n",
    "print('Temperature =', t, 'K')\n",
    "print('-----------------------------')\n",
    "print('-----------------------------')\n",
    "                         \n",
    "print('Weak Coupling Formula')\n",
    "print('-----------------------------')\n",
    "\n",
    "\n",
    "print('delta_t =', delta_weak, 'J')\n",
    "print('Gap Energy =', E_weak, 'J')\n",
    "print('Gap Voltage =', V_weak, 'mV')\n",
    "print('Josephson Current =', Ic_weak, 'uA')\n",
    "print('______________________________')\n",
    "print('______________________________')\n",
    "print('------------------------------')\n",
    "print('Strong Coupling Approximation')\n",
    "print('------------------------------')\n",
    "\n",
    "print('delta_t =', delta_strong, 'J')\n",
    "print('Gap Energy = ', E_strong, 'J')\n",
    "print('Gap Voltage =', V_strong, 'mV')\n",
    "print('Josephson Current =', Ic_strong, 'uA')\n",
    "print('________________________________')\n",
    "print('________________________________')\n",
    "print('________________________________')"
   ]
  },
  {
   "cell_type": "code",
   "execution_count": 18,
   "id": "ef1804d8-51d9-4eea-ac5c-b806b800994a",
   "metadata": {},
   "outputs": [
    {
     "name": "stdout",
     "output_type": "stream",
     "text": [
      "{'Ic': 22.0362, 'Ic_weak': 19.2008, 'Ic_strong': 14.8326, 'V_gap': 2.775, 'Vg_weak': 3.2467, 'Vg_strong': 2.6401, 'Temp': 5.1778}\n"
     ]
    }
   ],
   "source": [
    "#Add all the collected results to a dictionary\n",
    "Josephson_data = {\"Ic\" : np.interp(V[6], V, I) , \"Ic_weak\" : round(Ic_weak, 4), \"Ic_strong\" : round(Ic_strong, 4), \"V_gap\" : V[1], \"Vg_weak\" : round(V_weak, 4), \"Vg_strong\" : round(V_strong, 4), \"Temp\" : round(t, 4)}\n",
    "\n",
    "#Preview the newly created row of data\n",
    "print(Josephson_data)"
   ]
  },
  {
   "cell_type": "markdown",
   "id": "c29b131a-d29f-4f75-ba01-4e28fbbc0548",
   "metadata": {},
   "source": [
    "## Export the results to a csv file"
   ]
  },
  {
   "cell_type": "code",
   "execution_count": 19,
   "id": "565be433-d8b5-44ea-a793-bbf072ae75c6",
   "metadata": {},
   "outputs": [],
   "source": [
    "# import csv\n",
    "\n",
    "# with open(r'./Data/Josephson_data.csv', 'a', newline='') as csvfile:\n",
    "#     fieldnames = ['Ic','Ic_weak', 'Ic_strong', 'V_gap', 'Vg_weak', 'Vg_strong', 'Temp']\n",
    "#     writer = csv.DictWriter(csvfile, fieldnames=fieldnames)\n",
    "\n",
    "#     writer.writerow(Josephson_data)"
   ]
  },
  {
   "cell_type": "markdown",
   "id": "55f9e1ba-ea28-4854-8b64-a7ac34c3ddf8",
   "metadata": {},
   "source": [
    "## Author\n",
    "** **\n",
    "\n",
    "### <a href=\"https://www.linkedin.com/in/alin-airinei/\">Alin Airinei</a>"
   ]
  }
 ],
 "metadata": {
  "kernelspec": {
   "display_name": "Python 3 (ipykernel)",
   "language": "python",
   "name": "python3"
  },
  "language_info": {
   "codemirror_mode": {
    "name": "ipython",
    "version": 3
   },
   "file_extension": ".py",
   "mimetype": "text/x-python",
   "name": "python",
   "nbconvert_exporter": "python",
   "pygments_lexer": "ipython3",
   "version": "3.11.4"
  },
  "widgets": {
   "application/vnd.jupyter.widget-state+json": {
    "state": {},
    "version_major": 2,
    "version_minor": 0
   }
  }
 },
 "nbformat": 4,
 "nbformat_minor": 5
}
